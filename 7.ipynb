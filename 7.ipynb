{
  "nbformat": 4,
  "nbformat_minor": 0,
  "metadata": {
    "colab": {
      "provenance": []
    },
    "kernelspec": {
      "name": "python3",
      "display_name": "Python 3"
    }
  },
  "cells": [
    {
      "cell_type": "markdown",
      "metadata": {
        "id": "-qDsm6BnME2X"
      },
      "source": [
        "# Praktikum Pengantar Pembelajaran Mesin\n",
        "\n",
        "\n",
        "---\n",
        "## Bab 7. Support Vector Machine (SVM) Lanjutan\n"
      ]
    },
    {
      "cell_type": "markdown",
      "metadata": {
        "id": "sQAGcnK3MOS7"
      },
      "source": [
        "### 1) Import Data\n",
        "\n",
        "Unduh dataset yang akan digunakan pada praktikum kali ini. Anda dapat menggunakan aplikasi wget untuk mendowload dataset dan menyimpannya dalam Google Colab. Jalankan cell di bawah ini untuk mengunduh dataset"
      ]
    },
    {
      "cell_type": "code",
      "metadata": {
        "id": "FpjqVlzBMNLd",
        "colab": {
          "base_uri": "https://localhost:8080/"
        },
        "outputId": "39c463aa-9848-412e-83f4-eab849d71a61"
      },
      "source": [
        "! wget https://gist.githubusercontent.com/netj/8836201/raw/6f9306ad21398ea43cba4f7d537619d0e07d5ae3/iris.csv"
      ],
      "execution_count": null,
      "outputs": [
        {
          "output_type": "stream",
          "name": "stdout",
          "text": [
            "--2023-04-27 23:25:08--  https://gist.githubusercontent.com/netj/8836201/raw/6f9306ad21398ea43cba4f7d537619d0e07d5ae3/iris.csv\n",
            "Resolving gist.githubusercontent.com (gist.githubusercontent.com)... 185.199.108.133, 185.199.109.133, 185.199.110.133, ...\n",
            "Connecting to gist.githubusercontent.com (gist.githubusercontent.com)|185.199.108.133|:443... connected.\n",
            "HTTP request sent, awaiting response... 200 OK\n",
            "Length: 3975 (3.9K) [text/plain]\n",
            "Saving to: ‘iris.csv’\n",
            "\n",
            "\riris.csv              0%[                    ]       0  --.-KB/s               \riris.csv            100%[===================>]   3.88K  --.-KB/s    in 0s      \n",
            "\n",
            "2023-04-27 23:25:08 (51.6 MB/s) - ‘iris.csv’ saved [3975/3975]\n",
            "\n"
          ]
        }
      ]
    },
    {
      "cell_type": "markdown",
      "metadata": {
        "id": "SJy4t3lIOgGp"
      },
      "source": [
        "Setelah dataset berhasil diunduh, langkah berikutnya adalah membaca dataset dengan memanfaatkan fungsi **readcsv** dari library pandas. Lakukan pembacaan berkas csv ke dalam dataframe dengan nama **data** menggunakan fungsi **readcsv**. Jangan lupa untuk melakukan import library pandas terlebih dahulu\n"
      ]
    },
    {
      "cell_type": "code",
      "metadata": {
        "id": "mdhbxk_2OzbB"
      },
      "source": [
        "import pandas as pd\n",
        "import numpy as np\n",
        "data = pd.read_csv('iris.csv')"
      ],
      "execution_count": null,
      "outputs": []
    },
    {
      "cell_type": "markdown",
      "metadata": {
        "id": "w6NfrIDTOK38"
      },
      "source": [
        "\n",
        "\n",
        "Cek isi dataset Anda dengan menggunakan perintah **head()**"
      ]
    },
    {
      "cell_type": "code",
      "metadata": {
        "id": "Uaiaj796OFH3",
        "colab": {
          "base_uri": "https://localhost:8080/",
          "height": 206
        },
        "outputId": "77772e01-78c5-43ae-f569-28d1aad88567"
      },
      "source": [
        "data.head()"
      ],
      "execution_count": null,
      "outputs": [
        {
          "output_type": "execute_result",
          "data": {
            "text/plain": [
              "   sepal.length  sepal.width  petal.length  petal.width variety\n",
              "0           5.1          3.5           1.4          0.2  Setosa\n",
              "1           4.9          3.0           1.4          0.2  Setosa\n",
              "2           4.7          3.2           1.3          0.2  Setosa\n",
              "3           4.6          3.1           1.5          0.2  Setosa\n",
              "4           5.0          3.6           1.4          0.2  Setosa"
            ],
            "text/html": [
              "\n",
              "  <div id=\"df-47d82f08-a155-4f28-a30b-461dae9c864f\">\n",
              "    <div class=\"colab-df-container\">\n",
              "      <div>\n",
              "<style scoped>\n",
              "    .dataframe tbody tr th:only-of-type {\n",
              "        vertical-align: middle;\n",
              "    }\n",
              "\n",
              "    .dataframe tbody tr th {\n",
              "        vertical-align: top;\n",
              "    }\n",
              "\n",
              "    .dataframe thead th {\n",
              "        text-align: right;\n",
              "    }\n",
              "</style>\n",
              "<table border=\"1\" class=\"dataframe\">\n",
              "  <thead>\n",
              "    <tr style=\"text-align: right;\">\n",
              "      <th></th>\n",
              "      <th>sepal.length</th>\n",
              "      <th>sepal.width</th>\n",
              "      <th>petal.length</th>\n",
              "      <th>petal.width</th>\n",
              "      <th>variety</th>\n",
              "    </tr>\n",
              "  </thead>\n",
              "  <tbody>\n",
              "    <tr>\n",
              "      <th>0</th>\n",
              "      <td>5.1</td>\n",
              "      <td>3.5</td>\n",
              "      <td>1.4</td>\n",
              "      <td>0.2</td>\n",
              "      <td>Setosa</td>\n",
              "    </tr>\n",
              "    <tr>\n",
              "      <th>1</th>\n",
              "      <td>4.9</td>\n",
              "      <td>3.0</td>\n",
              "      <td>1.4</td>\n",
              "      <td>0.2</td>\n",
              "      <td>Setosa</td>\n",
              "    </tr>\n",
              "    <tr>\n",
              "      <th>2</th>\n",
              "      <td>4.7</td>\n",
              "      <td>3.2</td>\n",
              "      <td>1.3</td>\n",
              "      <td>0.2</td>\n",
              "      <td>Setosa</td>\n",
              "    </tr>\n",
              "    <tr>\n",
              "      <th>3</th>\n",
              "      <td>4.6</td>\n",
              "      <td>3.1</td>\n",
              "      <td>1.5</td>\n",
              "      <td>0.2</td>\n",
              "      <td>Setosa</td>\n",
              "    </tr>\n",
              "    <tr>\n",
              "      <th>4</th>\n",
              "      <td>5.0</td>\n",
              "      <td>3.6</td>\n",
              "      <td>1.4</td>\n",
              "      <td>0.2</td>\n",
              "      <td>Setosa</td>\n",
              "    </tr>\n",
              "  </tbody>\n",
              "</table>\n",
              "</div>\n",
              "      <button class=\"colab-df-convert\" onclick=\"convertToInteractive('df-47d82f08-a155-4f28-a30b-461dae9c864f')\"\n",
              "              title=\"Convert this dataframe to an interactive table.\"\n",
              "              style=\"display:none;\">\n",
              "        \n",
              "  <svg xmlns=\"http://www.w3.org/2000/svg\" height=\"24px\"viewBox=\"0 0 24 24\"\n",
              "       width=\"24px\">\n",
              "    <path d=\"M0 0h24v24H0V0z\" fill=\"none\"/>\n",
              "    <path d=\"M18.56 5.44l.94 2.06.94-2.06 2.06-.94-2.06-.94-.94-2.06-.94 2.06-2.06.94zm-11 1L8.5 8.5l.94-2.06 2.06-.94-2.06-.94L8.5 2.5l-.94 2.06-2.06.94zm10 10l.94 2.06.94-2.06 2.06-.94-2.06-.94-.94-2.06-.94 2.06-2.06.94z\"/><path d=\"M17.41 7.96l-1.37-1.37c-.4-.4-.92-.59-1.43-.59-.52 0-1.04.2-1.43.59L10.3 9.45l-7.72 7.72c-.78.78-.78 2.05 0 2.83L4 21.41c.39.39.9.59 1.41.59.51 0 1.02-.2 1.41-.59l7.78-7.78 2.81-2.81c.8-.78.8-2.07 0-2.86zM5.41 20L4 18.59l7.72-7.72 1.47 1.35L5.41 20z\"/>\n",
              "  </svg>\n",
              "      </button>\n",
              "      \n",
              "  <style>\n",
              "    .colab-df-container {\n",
              "      display:flex;\n",
              "      flex-wrap:wrap;\n",
              "      gap: 12px;\n",
              "    }\n",
              "\n",
              "    .colab-df-convert {\n",
              "      background-color: #E8F0FE;\n",
              "      border: none;\n",
              "      border-radius: 50%;\n",
              "      cursor: pointer;\n",
              "      display: none;\n",
              "      fill: #1967D2;\n",
              "      height: 32px;\n",
              "      padding: 0 0 0 0;\n",
              "      width: 32px;\n",
              "    }\n",
              "\n",
              "    .colab-df-convert:hover {\n",
              "      background-color: #E2EBFA;\n",
              "      box-shadow: 0px 1px 2px rgba(60, 64, 67, 0.3), 0px 1px 3px 1px rgba(60, 64, 67, 0.15);\n",
              "      fill: #174EA6;\n",
              "    }\n",
              "\n",
              "    [theme=dark] .colab-df-convert {\n",
              "      background-color: #3B4455;\n",
              "      fill: #D2E3FC;\n",
              "    }\n",
              "\n",
              "    [theme=dark] .colab-df-convert:hover {\n",
              "      background-color: #434B5C;\n",
              "      box-shadow: 0px 1px 3px 1px rgba(0, 0, 0, 0.15);\n",
              "      filter: drop-shadow(0px 1px 2px rgba(0, 0, 0, 0.3));\n",
              "      fill: #FFFFFF;\n",
              "    }\n",
              "  </style>\n",
              "\n",
              "      <script>\n",
              "        const buttonEl =\n",
              "          document.querySelector('#df-47d82f08-a155-4f28-a30b-461dae9c864f button.colab-df-convert');\n",
              "        buttonEl.style.display =\n",
              "          google.colab.kernel.accessAllowed ? 'block' : 'none';\n",
              "\n",
              "        async function convertToInteractive(key) {\n",
              "          const element = document.querySelector('#df-47d82f08-a155-4f28-a30b-461dae9c864f');\n",
              "          const dataTable =\n",
              "            await google.colab.kernel.invokeFunction('convertToInteractive',\n",
              "                                                     [key], {});\n",
              "          if (!dataTable) return;\n",
              "\n",
              "          const docLinkHtml = 'Like what you see? Visit the ' +\n",
              "            '<a target=\"_blank\" href=https://colab.research.google.com/notebooks/data_table.ipynb>data table notebook</a>'\n",
              "            + ' to learn more about interactive tables.';\n",
              "          element.innerHTML = '';\n",
              "          dataTable['output_type'] = 'display_data';\n",
              "          await google.colab.output.renderOutput(dataTable, element);\n",
              "          const docLink = document.createElement('div');\n",
              "          docLink.innerHTML = docLinkHtml;\n",
              "          element.appendChild(docLink);\n",
              "        }\n",
              "      </script>\n",
              "    </div>\n",
              "  </div>\n",
              "  "
            ]
          },
          "metadata": {},
          "execution_count": 3
        }
      ]
    },
    {
      "cell_type": "markdown",
      "metadata": {
        "id": "lfi1uHIxPdDe"
      },
      "source": [
        "## 2) Membagi data menjadi data latih dan data uji\n",
        "\n",
        "Metode pembelajaran mesin memerlukan dua jenis data :\n",
        "\n",
        "\n",
        "1.   Data latih : Digunakan untuk proses training metode klasifikasi\n",
        "2.   Data uji : Digunakan untuk proses evaluasi metode klasifikasi\n",
        "\n",
        "Data uji dan data latih perlu dibuat terpisah (mutualy exclusive) agar hasil evaluasi lebih akurat.\n",
        "\n",
        "Data uji dan data latih dapat dibuat dengan cara membagi dataset dengan rasio tertentu, misalnya 80% data latih dan 20% data uji.\n",
        "\n",
        "Library Scikit-learn memiliki fungsi [train_test_split](https://scikit-learn.org/stable/modules/generated/sklearn.model_selection.train_test_split.html) pada modul **model_selection** untuk membagi dataset menjadi data latih dan data uji. Bagilah dataset anda menjadi dua, yaitu **data_latih** dan **data_uji**.\n"
      ]
    },
    {
      "cell_type": "code",
      "metadata": {
        "id": "jJjfXgfmPTlU"
      },
      "source": [
        "from sklearn.model_selection import train_test_split\n",
        "data_latih,data_uji = train_test_split(data,test_size=0.2)"
      ],
      "execution_count": null,
      "outputs": []
    },
    {
      "cell_type": "markdown",
      "metadata": {
        "id": "tBhcsUDYfw2q"
      },
      "source": [
        "Tampilkan banyaknya data pada **data_latih** dan **data_uji**. Seharusnya **data_latih** terdiri dari 120 data, dan **data_uji** terdiri dari 30 data"
      ]
    },
    {
      "cell_type": "code",
      "metadata": {
        "id": "6OtySD4efmmQ",
        "colab": {
          "base_uri": "https://localhost:8080/"
        },
        "outputId": "6c4a79b8-72c1-4a06-fa10-28fd83539a87"
      },
      "source": [
        "print(data_uji.shape[0])\n",
        "print(data_latih.shape[0])"
      ],
      "execution_count": null,
      "outputs": [
        {
          "output_type": "stream",
          "name": "stdout",
          "text": [
            "30\n",
            "120\n"
          ]
        }
      ]
    },
    {
      "cell_type": "markdown",
      "metadata": {
        "id": "wgTwVS4ofSj4"
      },
      "source": [
        "Pisahkan label/kelas dari data uji menjadi sebuah variabel bernama **label_uji**"
      ]
    },
    {
      "cell_type": "code",
      "metadata": {
        "id": "9h3Xynf-fcf5"
      },
      "source": [
        "label_uji = data_uji.pop('variety')"
      ],
      "execution_count": null,
      "outputs": []
    },
    {
      "cell_type": "markdown",
      "metadata": {
        "id": "ub4I9YOp-pWS"
      },
      "source": [
        "## 3) Pembentukan data latih one-vs-rest\n",
        "\n",
        "Metode one-vs-rest memerlukan tiga jenis data latih yang diperlukan untuk melatih tiga SVM yang berbeda pada dataset Iris. Fungsi **buat_trainingset** digunakan untuk membentuk tiga dataset tersebut."
      ]
    },
    {
      "cell_type": "code",
      "metadata": {
        "id": "14SDqJcZAXZc"
      },
      "source": [
        "def buat_trainingset(dataset):\n",
        "  trainingset = {}\n",
        "  kolom_kelas = dataset.columns[-1]\n",
        "  list_kelas = dataset[kolom_kelas].unique()\n",
        "  for kelas in list_kelas:\n",
        "    data_temp = dataset.copy(deep=True)\n",
        "    data_temp[kolom_kelas] = data_temp[kolom_kelas].map({kelas:1})\n",
        "    data_temp[kolom_kelas] = data_temp[kolom_kelas].fillna(-1)\n",
        "    trainingset[kelas] = data_temp\n",
        "  return trainingset"
      ],
      "execution_count": null,
      "outputs": []
    },
    {
      "cell_type": "code",
      "source": [
        "kolom_kelas = data.columns[-1]\n",
        "list_kelas = data[kolom_kelas].unique()\n",
        "print(list_kelas)\n",
        "for kelas in list_kelas:\n",
        "  print(data['sepal.width'])"
      ],
      "metadata": {
        "colab": {
          "base_uri": "https://localhost:8080/"
        },
        "id": "Ior1hFUzCL1m",
        "outputId": "a8c74936-2a22-4977-ae44-0674c1b7fdc2"
      },
      "execution_count": null,
      "outputs": [
        {
          "output_type": "stream",
          "name": "stdout",
          "text": [
            "['Setosa' 'Versicolor' 'Virginica']\n",
            "0      3.5\n",
            "1      3.0\n",
            "2      3.2\n",
            "3      3.1\n",
            "4      3.6\n",
            "      ... \n",
            "145    3.0\n",
            "146    2.5\n",
            "147    3.0\n",
            "148    3.4\n",
            "149    3.0\n",
            "Name: sepal.width, Length: 150, dtype: float64\n",
            "0      3.5\n",
            "1      3.0\n",
            "2      3.2\n",
            "3      3.1\n",
            "4      3.6\n",
            "      ... \n",
            "145    3.0\n",
            "146    2.5\n",
            "147    3.0\n",
            "148    3.4\n",
            "149    3.0\n",
            "Name: sepal.width, Length: 150, dtype: float64\n",
            "0      3.5\n",
            "1      3.0\n",
            "2      3.2\n",
            "3      3.1\n",
            "4      3.6\n",
            "      ... \n",
            "145    3.0\n",
            "146    2.5\n",
            "147    3.0\n",
            "148    3.4\n",
            "149    3.0\n",
            "Name: sepal.width, Length: 150, dtype: float64\n"
          ]
        }
      ]
    },
    {
      "cell_type": "markdown",
      "metadata": {
        "id": "OJOAgFQXJXa7"
      },
      "source": [
        "Gunakan fungsi **buat_trainingset** untuk membentuk data latih dengan nama variabel **trainingset** yang akan digunakan pada proses training."
      ]
    },
    {
      "cell_type": "code",
      "metadata": {
        "id": "JKYH8PKq-sR1"
      },
      "source": [
        "trainingset = buat_trainingset(data_latih)"
      ],
      "execution_count": null,
      "outputs": []
    },
    {
      "cell_type": "markdown",
      "metadata": {
        "id": "ibORqyA-KOPh"
      },
      "source": [
        "Tampilkan isi **trainingset** agar Anda dapat memahami struktur dari variabel tersebut."
      ]
    },
    {
      "cell_type": "code",
      "metadata": {
        "id": "-g21oKqbKR4X",
        "colab": {
          "base_uri": "https://localhost:8080/"
        },
        "outputId": "94289d9b-20e7-47c2-98a5-6f6a5b115700"
      },
      "source": [
        "trainingset"
      ],
      "execution_count": null,
      "outputs": [
        {
          "output_type": "execute_result",
          "data": {
            "text/plain": [
              "{'Setosa':      sepal.length  sepal.width  petal.length  petal.width  variety\n",
              " 24            4.8          3.4           1.9          0.2      1.0\n",
              " 53            5.5          2.3           4.0          1.3     -1.0\n",
              " 52            6.9          3.1           4.9          1.5     -1.0\n",
              " 13            4.3          3.0           1.1          0.1      1.0\n",
              " 0             5.1          3.5           1.4          0.2      1.0\n",
              " ..            ...          ...           ...          ...      ...\n",
              " 61            5.9          3.0           4.2          1.5     -1.0\n",
              " 112           6.8          3.0           5.5          2.1     -1.0\n",
              " 148           6.2          3.4           5.4          2.3     -1.0\n",
              " 99            5.7          2.8           4.1          1.3     -1.0\n",
              " 27            5.2          3.5           1.5          0.2      1.0\n",
              " \n",
              " [120 rows x 5 columns],\n",
              " 'Versicolor':      sepal.length  sepal.width  petal.length  petal.width  variety\n",
              " 24            4.8          3.4           1.9          0.2     -1.0\n",
              " 53            5.5          2.3           4.0          1.3      1.0\n",
              " 52            6.9          3.1           4.9          1.5      1.0\n",
              " 13            4.3          3.0           1.1          0.1     -1.0\n",
              " 0             5.1          3.5           1.4          0.2     -1.0\n",
              " ..            ...          ...           ...          ...      ...\n",
              " 61            5.9          3.0           4.2          1.5      1.0\n",
              " 112           6.8          3.0           5.5          2.1     -1.0\n",
              " 148           6.2          3.4           5.4          2.3     -1.0\n",
              " 99            5.7          2.8           4.1          1.3      1.0\n",
              " 27            5.2          3.5           1.5          0.2     -1.0\n",
              " \n",
              " [120 rows x 5 columns],\n",
              " 'Virginica':      sepal.length  sepal.width  petal.length  petal.width  variety\n",
              " 24            4.8          3.4           1.9          0.2     -1.0\n",
              " 53            5.5          2.3           4.0          1.3     -1.0\n",
              " 52            6.9          3.1           4.9          1.5     -1.0\n",
              " 13            4.3          3.0           1.1          0.1     -1.0\n",
              " 0             5.1          3.5           1.4          0.2     -1.0\n",
              " ..            ...          ...           ...          ...      ...\n",
              " 61            5.9          3.0           4.2          1.5     -1.0\n",
              " 112           6.8          3.0           5.5          2.1      1.0\n",
              " 148           6.2          3.4           5.4          2.3      1.0\n",
              " 99            5.7          2.8           4.1          1.3     -1.0\n",
              " 27            5.2          3.5           1.5          0.2     -1.0\n",
              " \n",
              " [120 rows x 5 columns]}"
            ]
          },
          "metadata": {},
          "execution_count": 12
        }
      ]
    },
    {
      "cell_type": "markdown",
      "metadata": {
        "id": "Ikiam_bv8sM1"
      },
      "source": [
        "## 4) Pembentukan SVM Biner"
      ]
    },
    {
      "cell_type": "markdown",
      "metadata": {
        "id": "t6-boIzy9UJ2"
      },
      "source": [
        "Tujuan dari algoritma SVM adalah meminimalkan nilai *cost function*. Penghitungan nilai minimal dapat dapat dilakukan dengan menghitung nilai gradien dari *cost function* terlebih dahulu. Fungsi di bawah ini berguna untuk menghitung nilai gradien cost function"
      ]
    },
    {
      "cell_type": "code",
      "metadata": {
        "id": "Kq63208e_7b0"
      },
      "source": [
        "def hitung_cost_gradient(W, X, Y, regularization):\n",
        "  jarak = 1 - (Y * np.dot(X, W))\n",
        "  dw = np.zeros(len(W))\n",
        "  if max(0, jarak) == 0:\n",
        "    di = W\n",
        "  else: di = W - (regularization * Y * X)\n",
        "  dw += di\n",
        "  return dw"
      ],
      "execution_count": null,
      "outputs": []
    },
    {
      "cell_type": "markdown",
      "metadata": {
        "id": "sYGiwWxO9z1j"
      },
      "source": [
        "Terdapat beberapa cara untuk meminimalkan nilai *cost function*, salah satunya menggunakan Stochastic Gradient Descent (SGD) untuk melakukan minimasi. Minimasi *cost function* merupakan inti dari algoritma SVM. Fungsi di bawah ini merupakan implementasi algoritma SGD"
      ]
    },
    {
      "cell_type": "code",
      "metadata": {
        "id": "ERaoSW0kBCVA"
      },
      "source": [
        "from sklearn.utils import shuffle\n",
        "def sgd(data_latih, label_latih, learning_rate=0.000001, max_epoch=1000, regularization=10000):\n",
        "  data_latih = data_latih.to_numpy()\n",
        "  label_latih = label_latih.to_numpy()\n",
        "  bobot = np.zeros(data_latih.shape[1])\n",
        "  for epoch in range(1, max_epoch):\n",
        "    X, Y = shuffle(data_latih, label_latih, random_state=101)\n",
        "    for index, x in enumerate(X):\n",
        "      delta = hitung_cost_gradient(bobot, x, Y[index], regularization)\n",
        "      bobot = bobot - (learning_rate * delta)\n",
        "  return bobot"
      ],
      "execution_count": null,
      "outputs": []
    },
    {
      "cell_type": "markdown",
      "metadata": {
        "id": "e0mWl4NsNsLr"
      },
      "source": [
        "## 5) Proses Training"
      ]
    },
    {
      "cell_type": "markdown",
      "metadata": {
        "id": "FaTWcv7dAu7t"
      },
      "source": [
        "Proses training dilakukan dengan memanggil fungsi **sgd** berulang kali sesuai banyaknya kelas yang ada pada data. Dengan demikian, proses training menghasilkan bobot sebanyak kelas yang ada pada dataset. Buatlah fungsi bernama **training** yang digunakan untuk melakukan proses training one-vs-rest"
      ]
    },
    {
      "cell_type": "code",
      "metadata": {
        "id": "smXjlFIRFRxz"
      },
      "source": [
        "def training(trainingset):\n",
        "  list_kelas = trainingset.keys()\n",
        "  w = {}\n",
        "  for kelas in list_kelas:\n",
        "    data_latih = trainingset[kelas]\n",
        "    label_latih = data_latih.pop(data_latih.columns[-1])\n",
        "    w[kelas] = sgd(data_latih, label_latih)\n",
        "  return w"
      ],
      "execution_count": null,
      "outputs": []
    },
    {
      "cell_type": "markdown",
      "metadata": {
        "id": "pLiw-ZCVPy6J"
      },
      "source": [
        "Lakukan proses training dengan memanggil fungsi **training** dan menempatkan hasilnya pada variabel **W**"
      ]
    },
    {
      "cell_type": "code",
      "metadata": {
        "id": "cxO4ztvWGFlb"
      },
      "source": [
        "W = training(trainingset)"
      ],
      "execution_count": null,
      "outputs": []
    },
    {
      "cell_type": "markdown",
      "metadata": {
        "id": "Utg8hqFdQJDe"
      },
      "source": [
        "Tampilkan isi variabel **W**"
      ]
    },
    {
      "cell_type": "code",
      "metadata": {
        "id": "okhxKfw9C31G",
        "colab": {
          "base_uri": "https://localhost:8080/"
        },
        "outputId": "d325f3c6-97e1-440a-854e-db699c835a07"
      },
      "source": [
        "W"
      ],
      "execution_count": null,
      "outputs": [
        {
          "output_type": "execute_result",
          "data": {
            "text/plain": [
              "{'Setosa': array([ 0.21535063,  0.63379393, -0.98530796, -0.42713845]),\n",
              " 'Versicolor': array([ 0.3698191 , -1.52360935,  1.96749604, -4.4590605 ]),\n",
              " 'Virginica': array([-3.14394964, -5.15548111,  4.5980238 ,  7.76593281])}"
            ]
          },
          "metadata": {},
          "execution_count": 17
        }
      ]
    },
    {
      "cell_type": "markdown",
      "metadata": {
        "id": "M6UR7tpm1YQ_"
      },
      "source": [
        "## 6) Proses *testing* biner\n",
        "Proses testing dilakukan dengan menghitung nilai [*dot product*](https://en.wikipedia.org/wiki/Dot_product) antara bobot hasil training dengan data uji. Kelas data ditentukan berdasarkan tanda (positif atau negatif) dari hasil dot product tersebut. Fungsi berikut mengimplementasikan proses testing"
      ]
    },
    {
      "cell_type": "code",
      "metadata": {
        "id": "GFrDgAtU7umG"
      },
      "source": [
        "def testing(W, data_uji):\n",
        "  prediksi = np.array([])\n",
        "  for i in range(data_uji.shape[0]):\n",
        "    y_prediksi = np.sign(np.dot(W, data_uji.to_numpy()[i]))\n",
        "    prediksi = np.append(prediksi, y_prediksi)\n",
        "  return prediksi"
      ],
      "execution_count": null,
      "outputs": []
    },
    {
      "cell_type": "code",
      "source": [
        "label_uji"
      ],
      "metadata": {
        "colab": {
          "base_uri": "https://localhost:8080/"
        },
        "id": "GA0e9-InAoRP",
        "outputId": "d6559442-585f-491d-dade-6db188e60e53"
      },
      "execution_count": null,
      "outputs": [
        {
          "output_type": "execute_result",
          "data": {
            "text/plain": [
              "65     Versicolor\n",
              "98     Versicolor\n",
              "77     Versicolor\n",
              "21         Setosa\n",
              "91     Versicolor\n",
              "128     Virginica\n",
              "147     Virginica\n",
              "16         Setosa\n",
              "45         Setosa\n",
              "134     Virginica\n",
              "110     Virginica\n",
              "124     Virginica\n",
              "60     Versicolor\n",
              "121     Virginica\n",
              "70     Versicolor\n",
              "68     Versicolor\n",
              "89     Versicolor\n",
              "117     Virginica\n",
              "7          Setosa\n",
              "57     Versicolor\n",
              "71     Versicolor\n",
              "82     Versicolor\n",
              "20         Setosa\n",
              "145     Virginica\n",
              "135     Virginica\n",
              "73     Versicolor\n",
              "114     Virginica\n",
              "129     Virginica\n",
              "76     Versicolor\n",
              "56     Versicolor\n",
              "Name: variety, dtype: object"
            ]
          },
          "metadata": {},
          "execution_count": 19
        }
      ]
    },
    {
      "cell_type": "markdown",
      "metadata": {
        "id": "ZiDmUxVBuo42"
      },
      "source": [
        "## TUGAS\n",
        "Pada tugas kali ini Anda mendefinisikan proses testing pada metode one-vs-rest. Proses testing pada metode one-vs-rest dilakukan dengan memanggil proses testing biner untuk setiap **value** pada dictionary **W**. Kelas pada sebuah data latih adalah **key** pada dictionary **W** yang memiliki nilai prediksi **1**. Lengkapi fungsi **testing_onevsrest** di bawah ini. Output dari fungsi tersebut adalah list nama kelas hasil prediksi."
      ]
    },
    {
      "cell_type": "code",
      "metadata": {
        "id": "yVQ5YesFGLH5"
      },
      "source": [
        "def testing_onevsrest(W,data_uji):\n",
        "  #tulis kode Anda di sini.\n",
        "  kelas_prediction = [\"\"] * len(data_uji)\n",
        "  for i in range(data_uji.shape[0]):\n",
        "    for key, value in W.items():\n",
        "      y_prediction= np.sign(np.dot(value,data_uji.to_numpy()[i]))\n",
        "      if y_prediction==1:\n",
        "        kelas_prediction[i]=key\n",
        "  return kelas_prediction"
      ],
      "execution_count": null,
      "outputs": []
    },
    {
      "cell_type": "code",
      "source": [
        "prediksi = testing_onevsrest(W,data_uji)"
      ],
      "metadata": {
        "id": "SS_zyXQ2Bq_j"
      },
      "execution_count": null,
      "outputs": []
    },
    {
      "cell_type": "markdown",
      "metadata": {
        "id": "wBeuhb2Vmimg"
      },
      "source": [
        "Berapa banyak data latih yang berhasil diprediksi dengan benar?"
      ]
    },
    {
      "cell_type": "code",
      "metadata": {
        "id": "0gAyDrOVjxVU"
      },
      "source": [
        "prediksi_benar = sum(prediksi == label_uji)"
      ],
      "execution_count": null,
      "outputs": []
    },
    {
      "cell_type": "code",
      "metadata": {
        "id": "4ZSkRsaqixgL",
        "colab": {
          "base_uri": "https://localhost:8080/"
        },
        "outputId": "8c75e811-a097-4bd0-d414-504eaceab4bf"
      },
      "source": [
        "print(prediksi_benar)"
      ],
      "execution_count": null,
      "outputs": [
        {
          "output_type": "stream",
          "name": "stdout",
          "text": [
            "26\n"
          ]
        }
      ]
    }
  ]
}