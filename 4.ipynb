{
  "nbformat": 4,
  "nbformat_minor": 0,
  "metadata": {
    "colab": {
      "provenance": []
    },
    "kernelspec": {
      "name": "python3",
      "display_name": "Python 3"
    }
  },
  "cells": [
    {
      "cell_type": "markdown",
      "metadata": {
        "id": "-qDsm6BnME2X"
      },
      "source": [
        "# Praktikum Pengantar Pembelajaran Mesin\n",
        "\n",
        "\n",
        "---\n",
        "## Bab 4. Klasifikasi Naive Bayes\n"
      ]
    },
    {
      "cell_type": "markdown",
      "metadata": {
        "id": "sQAGcnK3MOS7"
      },
      "source": [
        "### 1) Import Data\n",
        "\n",
        "Unduh dataset yang akan digunakan pada praktikum kali ini. Anda dapat menggunakan aplikasi wget untuk mendowload dataset dan menyimpannya dalam Google Colab. Jalankan cell di bawah ini untuk mengunduh dataset"
      ]
    },
    {
      "cell_type": "code",
      "metadata": {
        "id": "FpjqVlzBMNLd",
        "outputId": "481fd6de-fa10-485a-b177-4541c36967e3",
        "colab": {
          "base_uri": "https://localhost:8080/"
        }
      },
      "source": [
        "!wget https://gist.githubusercontent.com/netj/8836201/raw/6f9306ad21398ea43cba4f7d537619d0e07d5ae3/iris.csv"
      ],
      "execution_count": null,
      "outputs": [
        {
          "output_type": "stream",
          "name": "stdout",
          "text": [
            "--2023-03-23 02:10:10--  https://gist.githubusercontent.com/netj/8836201/raw/6f9306ad21398ea43cba4f7d537619d0e07d5ae3/iris.csv\n",
            "Resolving gist.githubusercontent.com (gist.githubusercontent.com)... 185.199.111.133, 185.199.110.133, 185.199.108.133, ...\n",
            "Connecting to gist.githubusercontent.com (gist.githubusercontent.com)|185.199.111.133|:443... connected.\n",
            "HTTP request sent, awaiting response... 200 OK\n",
            "Length: 3975 (3.9K) [text/plain]\n",
            "Saving to: ‘iris.csv’\n",
            "\n",
            "\riris.csv              0%[                    ]       0  --.-KB/s               \riris.csv            100%[===================>]   3.88K  --.-KB/s    in 0s      \n",
            "\n",
            "2023-03-23 02:10:10 (48.1 MB/s) - ‘iris.csv’ saved [3975/3975]\n",
            "\n"
          ]
        }
      ]
    },
    {
      "cell_type": "markdown",
      "metadata": {
        "id": "SJy4t3lIOgGp"
      },
      "source": [
        "Setelah dataset berhasil diunduh, langkah berikutnya adalah membaca dataset dengan memanfaatkan fungsi **readcsv** dari library pandas. Lakukan pembacaan berkas csv ke dalam dataframe dengan nama **data** menggunakan fungsi **readcsv**. Jangan lupa untuk melakukan import library pandas terlebih dahulu\n"
      ]
    },
    {
      "cell_type": "code",
      "metadata": {
        "id": "mdhbxk_2OzbB"
      },
      "source": [
        "import pandas as pd\n",
        "import numpy as np\n",
        "data = pd.read_csv('iris.csv')"
      ],
      "execution_count": null,
      "outputs": []
    },
    {
      "cell_type": "markdown",
      "metadata": {
        "id": "w6NfrIDTOK38"
      },
      "source": [
        "\n",
        "\n",
        "Cek isi dataset Anda dengan menggunakan perintah **head()**"
      ]
    },
    {
      "cell_type": "code",
      "metadata": {
        "id": "Uaiaj796OFH3",
        "outputId": "04437d7e-ec5a-495f-973d-188773222905",
        "colab": {
          "base_uri": "https://localhost:8080/",
          "height": 206
        }
      },
      "source": [
        "data.head()"
      ],
      "execution_count": null,
      "outputs": [
        {
          "output_type": "execute_result",
          "data": {
            "text/plain": [
              "   sepal.length  sepal.width  petal.length  petal.width variety\n",
              "0           5.1          3.5           1.4          0.2  Setosa\n",
              "1           4.9          3.0           1.4          0.2  Setosa\n",
              "2           4.7          3.2           1.3          0.2  Setosa\n",
              "3           4.6          3.1           1.5          0.2  Setosa\n",
              "4           5.0          3.6           1.4          0.2  Setosa"
            ],
            "text/html": [
              "\n",
              "  <div id=\"df-612320d3-b653-4b08-b34a-71369b837713\">\n",
              "    <div class=\"colab-df-container\">\n",
              "      <div>\n",
              "<style scoped>\n",
              "    .dataframe tbody tr th:only-of-type {\n",
              "        vertical-align: middle;\n",
              "    }\n",
              "\n",
              "    .dataframe tbody tr th {\n",
              "        vertical-align: top;\n",
              "    }\n",
              "\n",
              "    .dataframe thead th {\n",
              "        text-align: right;\n",
              "    }\n",
              "</style>\n",
              "<table border=\"1\" class=\"dataframe\">\n",
              "  <thead>\n",
              "    <tr style=\"text-align: right;\">\n",
              "      <th></th>\n",
              "      <th>sepal.length</th>\n",
              "      <th>sepal.width</th>\n",
              "      <th>petal.length</th>\n",
              "      <th>petal.width</th>\n",
              "      <th>variety</th>\n",
              "    </tr>\n",
              "  </thead>\n",
              "  <tbody>\n",
              "    <tr>\n",
              "      <th>0</th>\n",
              "      <td>5.1</td>\n",
              "      <td>3.5</td>\n",
              "      <td>1.4</td>\n",
              "      <td>0.2</td>\n",
              "      <td>Setosa</td>\n",
              "    </tr>\n",
              "    <tr>\n",
              "      <th>1</th>\n",
              "      <td>4.9</td>\n",
              "      <td>3.0</td>\n",
              "      <td>1.4</td>\n",
              "      <td>0.2</td>\n",
              "      <td>Setosa</td>\n",
              "    </tr>\n",
              "    <tr>\n",
              "      <th>2</th>\n",
              "      <td>4.7</td>\n",
              "      <td>3.2</td>\n",
              "      <td>1.3</td>\n",
              "      <td>0.2</td>\n",
              "      <td>Setosa</td>\n",
              "    </tr>\n",
              "    <tr>\n",
              "      <th>3</th>\n",
              "      <td>4.6</td>\n",
              "      <td>3.1</td>\n",
              "      <td>1.5</td>\n",
              "      <td>0.2</td>\n",
              "      <td>Setosa</td>\n",
              "    </tr>\n",
              "    <tr>\n",
              "      <th>4</th>\n",
              "      <td>5.0</td>\n",
              "      <td>3.6</td>\n",
              "      <td>1.4</td>\n",
              "      <td>0.2</td>\n",
              "      <td>Setosa</td>\n",
              "    </tr>\n",
              "  </tbody>\n",
              "</table>\n",
              "</div>\n",
              "      <button class=\"colab-df-convert\" onclick=\"convertToInteractive('df-612320d3-b653-4b08-b34a-71369b837713')\"\n",
              "              title=\"Convert this dataframe to an interactive table.\"\n",
              "              style=\"display:none;\">\n",
              "        \n",
              "  <svg xmlns=\"http://www.w3.org/2000/svg\" height=\"24px\"viewBox=\"0 0 24 24\"\n",
              "       width=\"24px\">\n",
              "    <path d=\"M0 0h24v24H0V0z\" fill=\"none\"/>\n",
              "    <path d=\"M18.56 5.44l.94 2.06.94-2.06 2.06-.94-2.06-.94-.94-2.06-.94 2.06-2.06.94zm-11 1L8.5 8.5l.94-2.06 2.06-.94-2.06-.94L8.5 2.5l-.94 2.06-2.06.94zm10 10l.94 2.06.94-2.06 2.06-.94-2.06-.94-.94-2.06-.94 2.06-2.06.94z\"/><path d=\"M17.41 7.96l-1.37-1.37c-.4-.4-.92-.59-1.43-.59-.52 0-1.04.2-1.43.59L10.3 9.45l-7.72 7.72c-.78.78-.78 2.05 0 2.83L4 21.41c.39.39.9.59 1.41.59.51 0 1.02-.2 1.41-.59l7.78-7.78 2.81-2.81c.8-.78.8-2.07 0-2.86zM5.41 20L4 18.59l7.72-7.72 1.47 1.35L5.41 20z\"/>\n",
              "  </svg>\n",
              "      </button>\n",
              "      \n",
              "  <style>\n",
              "    .colab-df-container {\n",
              "      display:flex;\n",
              "      flex-wrap:wrap;\n",
              "      gap: 12px;\n",
              "    }\n",
              "\n",
              "    .colab-df-convert {\n",
              "      background-color: #E8F0FE;\n",
              "      border: none;\n",
              "      border-radius: 50%;\n",
              "      cursor: pointer;\n",
              "      display: none;\n",
              "      fill: #1967D2;\n",
              "      height: 32px;\n",
              "      padding: 0 0 0 0;\n",
              "      width: 32px;\n",
              "    }\n",
              "\n",
              "    .colab-df-convert:hover {\n",
              "      background-color: #E2EBFA;\n",
              "      box-shadow: 0px 1px 2px rgba(60, 64, 67, 0.3), 0px 1px 3px 1px rgba(60, 64, 67, 0.15);\n",
              "      fill: #174EA6;\n",
              "    }\n",
              "\n",
              "    [theme=dark] .colab-df-convert {\n",
              "      background-color: #3B4455;\n",
              "      fill: #D2E3FC;\n",
              "    }\n",
              "\n",
              "    [theme=dark] .colab-df-convert:hover {\n",
              "      background-color: #434B5C;\n",
              "      box-shadow: 0px 1px 3px 1px rgba(0, 0, 0, 0.15);\n",
              "      filter: drop-shadow(0px 1px 2px rgba(0, 0, 0, 0.3));\n",
              "      fill: #FFFFFF;\n",
              "    }\n",
              "  </style>\n",
              "\n",
              "      <script>\n",
              "        const buttonEl =\n",
              "          document.querySelector('#df-612320d3-b653-4b08-b34a-71369b837713 button.colab-df-convert');\n",
              "        buttonEl.style.display =\n",
              "          google.colab.kernel.accessAllowed ? 'block' : 'none';\n",
              "\n",
              "        async function convertToInteractive(key) {\n",
              "          const element = document.querySelector('#df-612320d3-b653-4b08-b34a-71369b837713');\n",
              "          const dataTable =\n",
              "            await google.colab.kernel.invokeFunction('convertToInteractive',\n",
              "                                                     [key], {});\n",
              "          if (!dataTable) return;\n",
              "\n",
              "          const docLinkHtml = 'Like what you see? Visit the ' +\n",
              "            '<a target=\"_blank\" href=https://colab.research.google.com/notebooks/data_table.ipynb>data table notebook</a>'\n",
              "            + ' to learn more about interactive tables.';\n",
              "          element.innerHTML = '';\n",
              "          dataTable['output_type'] = 'display_data';\n",
              "          await google.colab.output.renderOutput(dataTable, element);\n",
              "          const docLink = document.createElement('div');\n",
              "          docLink.innerHTML = docLinkHtml;\n",
              "          element.appendChild(docLink);\n",
              "        }\n",
              "      </script>\n",
              "    </div>\n",
              "  </div>\n",
              "  "
            ]
          },
          "metadata": {},
          "execution_count": 3
        }
      ]
    },
    {
      "cell_type": "markdown",
      "metadata": {
        "id": "lfi1uHIxPdDe"
      },
      "source": [
        "## 2) Membagi data menjadi data latih dan data uji\n",
        "\n",
        "Metode pembelajaran mesin memerlukan dua jenis data :\n",
        "\n",
        "\n",
        "1.   Data latih : Digunakan untuk proses training metode klasifikasi\n",
        "2.   Data uji : Digunakan untuk proses evaluasi metode klasifikasi\n",
        "\n",
        "Data uji dan data latih perlu dibuat terpisah (mutualy exclusive) agar hasil evaluasi lebih akurat.\n",
        "\n",
        "Data uji dan data latih dapat dibuat dengan cara membagi dataset dengan rasio tertentu, misalnya 80% data latih dan 20% data uji.\n",
        "\n",
        "Library Scikit-learn memiliki fungsi [train_test_split](https://scikit-learn.org/stable/modules/generated/sklearn.model_selection.train_test_split.html) pada modul **model_selection** untuk membagi dataset menjadi data latih dan data uji. Bagilah dataset anda menjadi dua, yaitu **data_latih** dan **data_uji**.\n"
      ]
    },
    {
      "cell_type": "code",
      "metadata": {
        "id": "jJjfXgfmPTlU"
      },
      "source": [
        "from sklearn.model_selection import train_test_split\n",
        "data_latih, data_uji = train_test_split(data, test_size = 0.2)"
      ],
      "execution_count": null,
      "outputs": []
    },
    {
      "cell_type": "markdown",
      "metadata": {
        "id": "tBhcsUDYfw2q"
      },
      "source": [
        "Tampilkan banyaknya data pada **data_latih** dan **data_uji**. Seharusnya **data_latih** terdiri dari 120 data, dan **data_uji** terdiri dari 30 data"
      ]
    },
    {
      "cell_type": "code",
      "metadata": {
        "id": "6OtySD4efmmQ",
        "outputId": "7deef5d6-d0e8-4642-d8fe-fb11f1255b8c",
        "colab": {
          "base_uri": "https://localhost:8080/"
        }
      },
      "source": [
        "print(data_uji.shape[0])\n",
        "print(data_latih.shape[0])"
      ],
      "execution_count": null,
      "outputs": [
        {
          "output_type": "stream",
          "name": "stdout",
          "text": [
            "30\n",
            "120\n"
          ]
        }
      ]
    },
    {
      "cell_type": "markdown",
      "metadata": {
        "id": "DeU-FCyTkVKC"
      },
      "source": [
        "Pisahkan label/kategori dari data uji menjadi variabel tersendiri. Beri nama variabelnya  **label_uji**"
      ]
    },
    {
      "cell_type": "code",
      "metadata": {
        "id": "e4vC_M0mkkl3"
      },
      "source": [
        "label_uji = data_uji.pop('variety')"
      ],
      "execution_count": null,
      "outputs": []
    },
    {
      "cell_type": "code",
      "source": [
        "data_uji.head()"
      ],
      "metadata": {
        "colab": {
          "base_uri": "https://localhost:8080/",
          "height": 206
        },
        "id": "NId80aJLPdq3",
        "outputId": "2cd81c49-1adb-458c-e289-be310697b842"
      },
      "execution_count": null,
      "outputs": [
        {
          "output_type": "execute_result",
          "data": {
            "text/plain": [
              "     sepal.length  sepal.width  petal.length  petal.width\n",
              "112           6.8          3.0           5.5          2.1\n",
              "134           6.1          2.6           5.6          1.4\n",
              "89            5.5          2.5           4.0          1.3\n",
              "123           6.3          2.7           4.9          1.8\n",
              "80            5.5          2.4           3.8          1.1"
            ],
            "text/html": [
              "\n",
              "  <div id=\"df-f60c055b-982c-4ecc-ab65-300c48121d44\">\n",
              "    <div class=\"colab-df-container\">\n",
              "      <div>\n",
              "<style scoped>\n",
              "    .dataframe tbody tr th:only-of-type {\n",
              "        vertical-align: middle;\n",
              "    }\n",
              "\n",
              "    .dataframe tbody tr th {\n",
              "        vertical-align: top;\n",
              "    }\n",
              "\n",
              "    .dataframe thead th {\n",
              "        text-align: right;\n",
              "    }\n",
              "</style>\n",
              "<table border=\"1\" class=\"dataframe\">\n",
              "  <thead>\n",
              "    <tr style=\"text-align: right;\">\n",
              "      <th></th>\n",
              "      <th>sepal.length</th>\n",
              "      <th>sepal.width</th>\n",
              "      <th>petal.length</th>\n",
              "      <th>petal.width</th>\n",
              "    </tr>\n",
              "  </thead>\n",
              "  <tbody>\n",
              "    <tr>\n",
              "      <th>112</th>\n",
              "      <td>6.8</td>\n",
              "      <td>3.0</td>\n",
              "      <td>5.5</td>\n",
              "      <td>2.1</td>\n",
              "    </tr>\n",
              "    <tr>\n",
              "      <th>134</th>\n",
              "      <td>6.1</td>\n",
              "      <td>2.6</td>\n",
              "      <td>5.6</td>\n",
              "      <td>1.4</td>\n",
              "    </tr>\n",
              "    <tr>\n",
              "      <th>89</th>\n",
              "      <td>5.5</td>\n",
              "      <td>2.5</td>\n",
              "      <td>4.0</td>\n",
              "      <td>1.3</td>\n",
              "    </tr>\n",
              "    <tr>\n",
              "      <th>123</th>\n",
              "      <td>6.3</td>\n",
              "      <td>2.7</td>\n",
              "      <td>4.9</td>\n",
              "      <td>1.8</td>\n",
              "    </tr>\n",
              "    <tr>\n",
              "      <th>80</th>\n",
              "      <td>5.5</td>\n",
              "      <td>2.4</td>\n",
              "      <td>3.8</td>\n",
              "      <td>1.1</td>\n",
              "    </tr>\n",
              "  </tbody>\n",
              "</table>\n",
              "</div>\n",
              "      <button class=\"colab-df-convert\" onclick=\"convertToInteractive('df-f60c055b-982c-4ecc-ab65-300c48121d44')\"\n",
              "              title=\"Convert this dataframe to an interactive table.\"\n",
              "              style=\"display:none;\">\n",
              "        \n",
              "  <svg xmlns=\"http://www.w3.org/2000/svg\" height=\"24px\"viewBox=\"0 0 24 24\"\n",
              "       width=\"24px\">\n",
              "    <path d=\"M0 0h24v24H0V0z\" fill=\"none\"/>\n",
              "    <path d=\"M18.56 5.44l.94 2.06.94-2.06 2.06-.94-2.06-.94-.94-2.06-.94 2.06-2.06.94zm-11 1L8.5 8.5l.94-2.06 2.06-.94-2.06-.94L8.5 2.5l-.94 2.06-2.06.94zm10 10l.94 2.06.94-2.06 2.06-.94-2.06-.94-.94-2.06-.94 2.06-2.06.94z\"/><path d=\"M17.41 7.96l-1.37-1.37c-.4-.4-.92-.59-1.43-.59-.52 0-1.04.2-1.43.59L10.3 9.45l-7.72 7.72c-.78.78-.78 2.05 0 2.83L4 21.41c.39.39.9.59 1.41.59.51 0 1.02-.2 1.41-.59l7.78-7.78 2.81-2.81c.8-.78.8-2.07 0-2.86zM5.41 20L4 18.59l7.72-7.72 1.47 1.35L5.41 20z\"/>\n",
              "  </svg>\n",
              "      </button>\n",
              "      \n",
              "  <style>\n",
              "    .colab-df-container {\n",
              "      display:flex;\n",
              "      flex-wrap:wrap;\n",
              "      gap: 12px;\n",
              "    }\n",
              "\n",
              "    .colab-df-convert {\n",
              "      background-color: #E8F0FE;\n",
              "      border: none;\n",
              "      border-radius: 50%;\n",
              "      cursor: pointer;\n",
              "      display: none;\n",
              "      fill: #1967D2;\n",
              "      height: 32px;\n",
              "      padding: 0 0 0 0;\n",
              "      width: 32px;\n",
              "    }\n",
              "\n",
              "    .colab-df-convert:hover {\n",
              "      background-color: #E2EBFA;\n",
              "      box-shadow: 0px 1px 2px rgba(60, 64, 67, 0.3), 0px 1px 3px 1px rgba(60, 64, 67, 0.15);\n",
              "      fill: #174EA6;\n",
              "    }\n",
              "\n",
              "    [theme=dark] .colab-df-convert {\n",
              "      background-color: #3B4455;\n",
              "      fill: #D2E3FC;\n",
              "    }\n",
              "\n",
              "    [theme=dark] .colab-df-convert:hover {\n",
              "      background-color: #434B5C;\n",
              "      box-shadow: 0px 1px 3px 1px rgba(0, 0, 0, 0.15);\n",
              "      filter: drop-shadow(0px 1px 2px rgba(0, 0, 0, 0.3));\n",
              "      fill: #FFFFFF;\n",
              "    }\n",
              "  </style>\n",
              "\n",
              "      <script>\n",
              "        const buttonEl =\n",
              "          document.querySelector('#df-f60c055b-982c-4ecc-ab65-300c48121d44 button.colab-df-convert');\n",
              "        buttonEl.style.display =\n",
              "          google.colab.kernel.accessAllowed ? 'block' : 'none';\n",
              "\n",
              "        async function convertToInteractive(key) {\n",
              "          const element = document.querySelector('#df-f60c055b-982c-4ecc-ab65-300c48121d44');\n",
              "          const dataTable =\n",
              "            await google.colab.kernel.invokeFunction('convertToInteractive',\n",
              "                                                     [key], {});\n",
              "          if (!dataTable) return;\n",
              "\n",
              "          const docLinkHtml = 'Like what you see? Visit the ' +\n",
              "            '<a target=\"_blank\" href=https://colab.research.google.com/notebooks/data_table.ipynb>data table notebook</a>'\n",
              "            + ' to learn more about interactive tables.';\n",
              "          element.innerHTML = '';\n",
              "          dataTable['output_type'] = 'display_data';\n",
              "          await google.colab.output.renderOutput(dataTable, element);\n",
              "          const docLink = document.createElement('div');\n",
              "          docLink.innerHTML = docLinkHtml;\n",
              "          element.appendChild(docLink);\n",
              "        }\n",
              "      </script>\n",
              "    </div>\n",
              "  </div>\n",
              "  "
            ]
          },
          "metadata": {},
          "execution_count": 13
        }
      ]
    },
    {
      "cell_type": "markdown",
      "metadata": {
        "id": "xm_dJNeMgl9u"
      },
      "source": [
        "## 3) Menghitung Prior\n",
        "\n",
        "Tahapan pertama pada algoritma Naive Bayes adalah perhitungan prior. Prior suatu kelas merupakan peluang awal munculnya kelas tersebut. Atau dengan kata lain, prior merupakan frekuensi relatif dari suatu kelas terhadap keseluruhan data.\n",
        "\n",
        "Buatlah fungsi bernama **hitung_prior** yang berfungsi menghitung nilai prior dari masing-masing kelas yang terdapat pada data latih. Fungsi ini menerima input berupa list kelas dari data latih."
      ]
    },
    {
      "cell_type": "code",
      "metadata": {
        "id": "QNEYOTLsfqld"
      },
      "source": [
        "from collections import Counter\n",
        "def hitung_prior(list_kelas):\n",
        "  n_data = len(list_kelas)\n",
        "  prior = Counter(list_kelas)\n",
        "  for key in prior.keys():\n",
        "    prior[key] = prior[key]/n_data\n",
        "  return prior"
      ],
      "execution_count": null,
      "outputs": []
    },
    {
      "cell_type": "markdown",
      "metadata": {
        "id": "KaOXTHEmuNcL"
      },
      "source": [
        "Ujilah fungsi **hitung_prior** menggunakan kelas dari variabel **data_latih**. Amati hasilnya"
      ]
    },
    {
      "cell_type": "code",
      "metadata": {
        "id": "Hxfrr832h61_",
        "outputId": "4393f501-7bfb-4736-83c3-7db24a3cf6d7",
        "colab": {
          "base_uri": "https://localhost:8080/"
        }
      },
      "source": [
        "prior = hitung_prior(data_latih['variety'])\n",
        "print(prior)"
      ],
      "execution_count": null,
      "outputs": [
        {
          "output_type": "stream",
          "name": "stdout",
          "text": [
            "Counter({'Setosa': 0.35, 'Versicolor': 0.325, 'Virginica': 0.325})\n"
          ]
        }
      ]
    },
    {
      "cell_type": "markdown",
      "metadata": {
        "id": "46FZOwFIlkM_"
      },
      "source": [
        "## 4) Menghitung *likelihood*"
      ]
    },
    {
      "cell_type": "markdown",
      "metadata": {
        "id": "4wQfBDujvR_Z"
      },
      "source": [
        "Praktikum kali ini mengimplementasikan metode Naive Bayes menggunakan datset iris. Semua fitur pada dataset iris memiliki tipe numerik. Dengan demikian, perhitungan *likelihood* dilakukan menggunakan Gaussian Model.\n",
        "\n",
        "Tahapan yang perlu dilakukan sebelum perhitungan *likelihood* adalah menghitung rata-rata dan deviasi standar masing-masing fitur per kelas. Buatlah fungsi **hitung_rata2_std_kelas** yang berfungsi menghitung rata-rata dan standar deviasi per fitur dan kelas"
      ]
    },
    {
      "cell_type": "code",
      "metadata": {
        "id": "qFB6pLbeikcG"
      },
      "source": [
        "def hitung_rata2_std_kelas(input_data):\n",
        "  list_columns = input_data.columns[:-1]\n",
        "  class_columns_name = input_data.columns[-1]\n",
        "  list_class = set(input_data[class_columns_name])\n",
        "  rata2 = {}\n",
        "  std = {}\n",
        "  for column in list_columns:\n",
        "    for a_class in list_class:\n",
        "      rata2[(a_class, column)] = input_data.loc[input_data[class_columns_name] == a_class][column].mean()\n",
        "      std[(a_class, column)] = input_data.loc[input_data[class_columns_name] == a_class][column].std()\n",
        "  return (rata2, std)"
      ],
      "execution_count": null,
      "outputs": []
    },
    {
      "cell_type": "markdown",
      "metadata": {
        "id": "mou0Bi1cyswK"
      },
      "source": [
        "Buatlah fungsi **hitung_likelihood_gaussian** yang bertujuan menghitung nilai likelihood suatu nilai terhadap rata-rata dan deviasi standar tertentu."
      ]
    },
    {
      "cell_type": "code",
      "metadata": {
        "id": "fzvwAIBh8g2e"
      },
      "source": [
        "import math\n",
        "def hitung_likelihood_gaussian(data, rata2, std):\n",
        "  hasil = (1/math.sqrt(2*math.pi*(std**2))) * math.exp((-1*((data-rata2)**2))/(2*(std**2)))\n",
        "  return hasil\n"
      ],
      "execution_count": null,
      "outputs": []
    },
    {
      "cell_type": "markdown",
      "metadata": {
        "id": "oQL9TuvR0ING"
      },
      "source": [
        "## 5) Proses *training*\n",
        "Proses training pada Naive Bayes dengan model Gaussian dilakukan untuk menghitung prior serta  rata-rata dan deviasi standar pada masing-msaing fitur dan kelas."
      ]
    },
    {
      "cell_type": "code",
      "metadata": {
        "id": "Oi9yBYOQE2It"
      },
      "source": [
        "def training_naive_bayes_gaussian(data_latih):\n",
        "  class_column_name = data_latih.columns[-1]\n",
        "  prior = hitung_prior(data_latih[class_column_name])\n",
        "  rata2, std = hitung_rata2_std_kelas(data_latih)\n",
        "  list_class = set(data_latih[class_column_name])\n",
        "  list_columns = data_latih.columns[:-1]\n",
        "  model = {}\n",
        "  model['prior'] = prior\n",
        "  model['rata2'] = rata2\n",
        "  model['std'] = std\n",
        "  model['list_class'] = list_class\n",
        "  model['list_columns'] = list_columns\n",
        "  return model"
      ],
      "execution_count": null,
      "outputs": []
    },
    {
      "cell_type": "markdown",
      "metadata": {
        "id": "SdOp5WU61OWA"
      },
      "source": [
        "Lakukanlah proses training dan simpan hasil training pada variabel **model**"
      ]
    },
    {
      "cell_type": "code",
      "metadata": {
        "id": "QJtz-ZubF6C_"
      },
      "source": [
        "model = training_naive_bayes_gaussian(data_latih)"
      ],
      "execution_count": null,
      "outputs": []
    },
    {
      "cell_type": "markdown",
      "metadata": {
        "id": "M6UR7tpm1YQ_"
      },
      "source": [
        "## 6) Proses *testing*\n",
        "Proses testing dilakukan dengan menghitung nilai posterior dari data uji berdasarkan nilai model yang diperoleh saat training. Nilai posterior diperoleh dari perkalian prior dengan *likelihood* masing-masing fiturnya. Setelah itu, penentuan kelas data uji dilakukan berdasarkan nilai posterior terbesar"
      ]
    },
    {
      "cell_type": "code",
      "metadata": {
        "id": "GFrDgAtU7umG"
      },
      "source": [
        "def testing_naive_bayes_gaussian(model, data_uji):\n",
        "  prior = model['prior']\n",
        "  rata2 = model['rata2']\n",
        "  std = model['std']\n",
        "  list_class = model['list_class']\n",
        "  list_columns = model['list_columns']\n",
        "  posterior = dict.fromkeys(list_class, 1)\n",
        "  for a_class in list_class:\n",
        "    for column in list_columns:\n",
        "      posterior[a_class] = posterior[a_class] * hitung_likelihood_gaussian(data_uji[column], rata2[(a_class, column)], std[(a_class, column)])\n",
        "    posterior[a_class]=posterior[a_class]*prior[a_class]\n",
        "  kelas_uji = max(posterior, key=posterior.get)\n",
        "  return kelas_uji"
      ],
      "execution_count": null,
      "outputs": []
    },
    {
      "cell_type": "markdown",
      "metadata": {
        "id": "v4gkpgl02hHN"
      },
      "source": [
        "Ujilah fungsi **testing_naive_bayes_gaussian** menggunakan data uji pertama. Bandingkan hasilnya dengan nilai label sebenarnya."
      ]
    },
    {
      "cell_type": "code",
      "source": [
        "indeks_uji = 0\n",
        "prediksi = testing_naive_bayes_gaussian(model,data_uji.iloc[indeks_uji])\n",
        "print(prediksi)\n",
        "print(label_uji.iloc[indeks_uji])"
      ],
      "metadata": {
        "colab": {
          "base_uri": "https://localhost:8080/"
        },
        "id": "7gDFhDtYUg1u",
        "outputId": "c1cd4ad5-ed3b-444e-93dc-f95c21f8b227"
      },
      "execution_count": null,
      "outputs": [
        {
          "output_type": "stream",
          "name": "stdout",
          "text": [
            "Virginica\n",
            "Virginica\n"
          ]
        }
      ]
    },
    {
      "cell_type": "markdown",
      "metadata": {
        "id": "njN0S0TD254D"
      },
      "source": [
        "Lakukan pengujian untuk semua data uji. Selanjutnya bandingkan dengan label sebenarnya untuk menghitung berapa banyak data uji yang berhasil diprediksi dengan benar"
      ]
    },
    {
      "cell_type": "code",
      "metadata": {
        "id": "coYepsufHTeW",
        "outputId": "cc27a10e-c147-47fa-b468-ea0112e28e01",
        "colab": {
          "base_uri": "https://localhost:8080/"
        }
      },
      "source": [
        "prediksi_total = []\n",
        "for indeks in range(data_uji.shape[0]):\n",
        "  prediksi_total.append(testing_naive_bayes_gaussian(model,data_uji.iloc[indeks]))\n",
        "print(\"Total prediksi benar: \", sum(prediksi_total==label_uji))"
      ],
      "execution_count": null,
      "outputs": [
        {
          "output_type": "stream",
          "name": "stdout",
          "text": [
            "Total prediksi benar:  28\n"
          ]
        }
      ]
    },
    {
      "cell_type": "markdown",
      "metadata": {
        "id": "ZiDmUxVBuo42"
      },
      "source": [
        "## TUGAS\n",
        "Pada tugas kali ini Anda akan menggunakan dataset **[Car Evaluation Dataset](https://archive.ics.uci.edu/ml/datasets/Car+Evaluation)** yang telah dimodifikasi. Fitur-fitur yang ada bertipe kategori sebagai berikut:\n",
        "1. **buying**. Merupakan harga beli mobil. Nilai : vhigh, high, med, low\n",
        "2. **maint**. Menandakan biaya perawatan mobil. Nilai: vhigh, high, med, low\n",
        "3. **lug_boot**. Menandakan ukuran bagasi. Nilai: small, med, big\n",
        "4. **safety**. Menandakan skor keamanan mobil. Nilai:  low, med, high\n",
        "5. **class**. Merupakan kelas data. Nilai: unacc, acc, good, vgood\n",
        "\n",
        "Download dataset dari https://dataset-ppm.s3.amazonaws.com/car_sample.csv dan letakkan dalam variabel **data_tugas**."
      ]
    },
    {
      "cell_type": "code",
      "metadata": {
        "id": "taf0UIWICpVB",
        "outputId": "8ca797fa-22a0-47b9-9d5e-8b8b0952dc86",
        "colab": {
          "base_uri": "https://localhost:8080/"
        }
      },
      "source": [
        "!wget https://gist.githubusercontent.com/Arceister/a890983a3c3f151eebf5702d870d93a7/raw/a4ed5bf0d779a8c8b8cda7145c44e1a36fe8f7ca/car_evaluation.csv"
      ],
      "execution_count": null,
      "outputs": [
        {
          "output_type": "stream",
          "name": "stdout",
          "text": [
            "--2023-03-23 02:47:09--  https://gist.githubusercontent.com/Arceister/a890983a3c3f151eebf5702d870d93a7/raw/a4ed5bf0d779a8c8b8cda7145c44e1a36fe8f7ca/car_evaluation.csv\n",
            "Resolving gist.githubusercontent.com (gist.githubusercontent.com)... 185.199.109.133, 185.199.110.133, 185.199.108.133, ...\n",
            "Connecting to gist.githubusercontent.com (gist.githubusercontent.com)|185.199.109.133|:443... connected.\n",
            "HTTP request sent, awaiting response... 200 OK\n",
            "Length: 51915 (51K) [text/plain]\n",
            "Saving to: ‘car_evaluation.csv’\n",
            "\n",
            "car_evaluation.csv  100%[===================>]  50.70K  --.-KB/s    in 0.008s  \n",
            "\n",
            "2023-03-23 02:47:09 (6.50 MB/s) - ‘car_evaluation.csv’ saved [51915/51915]\n",
            "\n"
          ]
        }
      ]
    },
    {
      "cell_type": "code",
      "metadata": {
        "id": "s0RmCUM02o7i",
        "outputId": "757c99b3-8460-4b8e-b41a-e92e053e5ce2",
        "colab": {
          "base_uri": "https://localhost:8080/",
          "height": 206
        }
      },
      "source": [
        "import pandas as pd\n",
        "data = pd.read_csv('car_evaluation.csv')\n",
        "data.head()"
      ],
      "execution_count": null,
      "outputs": [
        {
          "output_type": "execute_result",
          "data": {
            "text/plain": [
              "  buying  maint doors persons lug_boot safety  class\n",
              "0  vhigh  vhigh     2       2    small    low  unacc\n",
              "1  vhigh  vhigh     2       2    small    med  unacc\n",
              "2  vhigh  vhigh     2       2    small   high  unacc\n",
              "3  vhigh  vhigh     2       2      med    low  unacc\n",
              "4  vhigh  vhigh     2       2      med    med  unacc"
            ],
            "text/html": [
              "\n",
              "  <div id=\"df-83b82111-b4bb-4add-baab-816b6c323bfd\">\n",
              "    <div class=\"colab-df-container\">\n",
              "      <div>\n",
              "<style scoped>\n",
              "    .dataframe tbody tr th:only-of-type {\n",
              "        vertical-align: middle;\n",
              "    }\n",
              "\n",
              "    .dataframe tbody tr th {\n",
              "        vertical-align: top;\n",
              "    }\n",
              "\n",
              "    .dataframe thead th {\n",
              "        text-align: right;\n",
              "    }\n",
              "</style>\n",
              "<table border=\"1\" class=\"dataframe\">\n",
              "  <thead>\n",
              "    <tr style=\"text-align: right;\">\n",
              "      <th></th>\n",
              "      <th>buying</th>\n",
              "      <th>maint</th>\n",
              "      <th>doors</th>\n",
              "      <th>persons</th>\n",
              "      <th>lug_boot</th>\n",
              "      <th>safety</th>\n",
              "      <th>class</th>\n",
              "    </tr>\n",
              "  </thead>\n",
              "  <tbody>\n",
              "    <tr>\n",
              "      <th>0</th>\n",
              "      <td>vhigh</td>\n",
              "      <td>vhigh</td>\n",
              "      <td>2</td>\n",
              "      <td>2</td>\n",
              "      <td>small</td>\n",
              "      <td>low</td>\n",
              "      <td>unacc</td>\n",
              "    </tr>\n",
              "    <tr>\n",
              "      <th>1</th>\n",
              "      <td>vhigh</td>\n",
              "      <td>vhigh</td>\n",
              "      <td>2</td>\n",
              "      <td>2</td>\n",
              "      <td>small</td>\n",
              "      <td>med</td>\n",
              "      <td>unacc</td>\n",
              "    </tr>\n",
              "    <tr>\n",
              "      <th>2</th>\n",
              "      <td>vhigh</td>\n",
              "      <td>vhigh</td>\n",
              "      <td>2</td>\n",
              "      <td>2</td>\n",
              "      <td>small</td>\n",
              "      <td>high</td>\n",
              "      <td>unacc</td>\n",
              "    </tr>\n",
              "    <tr>\n",
              "      <th>3</th>\n",
              "      <td>vhigh</td>\n",
              "      <td>vhigh</td>\n",
              "      <td>2</td>\n",
              "      <td>2</td>\n",
              "      <td>med</td>\n",
              "      <td>low</td>\n",
              "      <td>unacc</td>\n",
              "    </tr>\n",
              "    <tr>\n",
              "      <th>4</th>\n",
              "      <td>vhigh</td>\n",
              "      <td>vhigh</td>\n",
              "      <td>2</td>\n",
              "      <td>2</td>\n",
              "      <td>med</td>\n",
              "      <td>med</td>\n",
              "      <td>unacc</td>\n",
              "    </tr>\n",
              "  </tbody>\n",
              "</table>\n",
              "</div>\n",
              "      <button class=\"colab-df-convert\" onclick=\"convertToInteractive('df-83b82111-b4bb-4add-baab-816b6c323bfd')\"\n",
              "              title=\"Convert this dataframe to an interactive table.\"\n",
              "              style=\"display:none;\">\n",
              "        \n",
              "  <svg xmlns=\"http://www.w3.org/2000/svg\" height=\"24px\"viewBox=\"0 0 24 24\"\n",
              "       width=\"24px\">\n",
              "    <path d=\"M0 0h24v24H0V0z\" fill=\"none\"/>\n",
              "    <path d=\"M18.56 5.44l.94 2.06.94-2.06 2.06-.94-2.06-.94-.94-2.06-.94 2.06-2.06.94zm-11 1L8.5 8.5l.94-2.06 2.06-.94-2.06-.94L8.5 2.5l-.94 2.06-2.06.94zm10 10l.94 2.06.94-2.06 2.06-.94-2.06-.94-.94-2.06-.94 2.06-2.06.94z\"/><path d=\"M17.41 7.96l-1.37-1.37c-.4-.4-.92-.59-1.43-.59-.52 0-1.04.2-1.43.59L10.3 9.45l-7.72 7.72c-.78.78-.78 2.05 0 2.83L4 21.41c.39.39.9.59 1.41.59.51 0 1.02-.2 1.41-.59l7.78-7.78 2.81-2.81c.8-.78.8-2.07 0-2.86zM5.41 20L4 18.59l7.72-7.72 1.47 1.35L5.41 20z\"/>\n",
              "  </svg>\n",
              "      </button>\n",
              "      \n",
              "  <style>\n",
              "    .colab-df-container {\n",
              "      display:flex;\n",
              "      flex-wrap:wrap;\n",
              "      gap: 12px;\n",
              "    }\n",
              "\n",
              "    .colab-df-convert {\n",
              "      background-color: #E8F0FE;\n",
              "      border: none;\n",
              "      border-radius: 50%;\n",
              "      cursor: pointer;\n",
              "      display: none;\n",
              "      fill: #1967D2;\n",
              "      height: 32px;\n",
              "      padding: 0 0 0 0;\n",
              "      width: 32px;\n",
              "    }\n",
              "\n",
              "    .colab-df-convert:hover {\n",
              "      background-color: #E2EBFA;\n",
              "      box-shadow: 0px 1px 2px rgba(60, 64, 67, 0.3), 0px 1px 3px 1px rgba(60, 64, 67, 0.15);\n",
              "      fill: #174EA6;\n",
              "    }\n",
              "\n",
              "    [theme=dark] .colab-df-convert {\n",
              "      background-color: #3B4455;\n",
              "      fill: #D2E3FC;\n",
              "    }\n",
              "\n",
              "    [theme=dark] .colab-df-convert:hover {\n",
              "      background-color: #434B5C;\n",
              "      box-shadow: 0px 1px 3px 1px rgba(0, 0, 0, 0.15);\n",
              "      filter: drop-shadow(0px 1px 2px rgba(0, 0, 0, 0.3));\n",
              "      fill: #FFFFFF;\n",
              "    }\n",
              "  </style>\n",
              "\n",
              "      <script>\n",
              "        const buttonEl =\n",
              "          document.querySelector('#df-83b82111-b4bb-4add-baab-816b6c323bfd button.colab-df-convert');\n",
              "        buttonEl.style.display =\n",
              "          google.colab.kernel.accessAllowed ? 'block' : 'none';\n",
              "\n",
              "        async function convertToInteractive(key) {\n",
              "          const element = document.querySelector('#df-83b82111-b4bb-4add-baab-816b6c323bfd');\n",
              "          const dataTable =\n",
              "            await google.colab.kernel.invokeFunction('convertToInteractive',\n",
              "                                                     [key], {});\n",
              "          if (!dataTable) return;\n",
              "\n",
              "          const docLinkHtml = 'Like what you see? Visit the ' +\n",
              "            '<a target=\"_blank\" href=https://colab.research.google.com/notebooks/data_table.ipynb>data table notebook</a>'\n",
              "            + ' to learn more about interactive tables.';\n",
              "          element.innerHTML = '';\n",
              "          dataTable['output_type'] = 'display_data';\n",
              "          await google.colab.output.renderOutput(dataTable, element);\n",
              "          const docLink = document.createElement('div');\n",
              "          docLink.innerHTML = docLinkHtml;\n",
              "          element.appendChild(docLink);\n",
              "        }\n",
              "      </script>\n",
              "    </div>\n",
              "  </div>\n",
              "  "
            ]
          },
          "metadata": {},
          "execution_count": 31
        }
      ]
    },
    {
      "cell_type": "markdown",
      "metadata": {
        "id": "TPT18UxqDEmj"
      },
      "source": [
        "Bagi data menjadi data latih dan uji dengan nama **tugas_latih** dan **tugas_uji** dengan rasio 70%:30%"
      ]
    },
    {
      "cell_type": "code",
      "metadata": {
        "id": "U64ysR2GDCIW",
        "colab": {
          "base_uri": "https://localhost:8080/"
        },
        "outputId": "3527331a-96a6-42c1-d9d5-b9cba5988462"
      },
      "source": [
        "tugas_latih, tugas_uji = train_test_split(data, test_size = 0.3)\n",
        "print(tugas_latih.shape[0])\n",
        "print(tugas_uji.shape[0])"
      ],
      "execution_count": null,
      "outputs": [
        {
          "output_type": "stream",
          "name": "stdout",
          "text": [
            "1209\n",
            "519\n"
          ]
        }
      ]
    },
    {
      "cell_type": "markdown",
      "metadata": {
        "id": "6Gly3yA3DaMl"
      },
      "source": [
        "Pisahkan label/kategori dari data uji menjadi variabel tersendiri. Beri nama variabelnya **tugas_label_uji**"
      ]
    },
    {
      "cell_type": "code",
      "metadata": {
        "id": "B--8aoLWDYxI"
      },
      "source": [
        "tugas_label_uji = tugas_uji.pop ('class')"
      ],
      "execution_count": null,
      "outputs": []
    },
    {
      "cell_type": "markdown",
      "metadata": {
        "id": "Co1DltS5ezOo"
      },
      "source": [
        "Hitunglah nilai prior dari data latih dan simpan nilainya pada variabel bernama **prior_tugas**. Anda dapat menggunakan fungsi **hitung_prior** yang telah Anda buat."
      ]
    },
    {
      "cell_type": "code",
      "metadata": {
        "id": "LV3cv5pvDqPT",
        "outputId": "435c2489-900e-4a76-cc3f-252b91f93e43",
        "colab": {
          "base_uri": "https://localhost:8080/"
        }
      },
      "source": [
        "prior_tugas = hitung_prior(tugas_latih['class'])\n",
        "print(prior_tugas)"
      ],
      "execution_count": null,
      "outputs": [
        {
          "output_type": "stream",
          "name": "stdout",
          "text": [
            "Counter({'unacc': 0.7030603804797353, 'acc': 0.22249793217535152, 'good': 0.0413564929693962, 'vgood': 0.033085194375516956})\n"
          ]
        }
      ]
    },
    {
      "cell_type": "markdown",
      "metadata": {
        "id": "A35772NVfJT4"
      },
      "source": [
        "Buatlah fungsi bernama **hitung_likelihood_multinomial** dengan parameter input berupa data latih. Fungsi ini bertujuan menghitung nilai likelihood pada masing-masing kolom pada data latih. Operasi-operasi yang perlu dilakukan pada fungsi ini adalah:\n",
        "\n",
        "\n",
        "1.   Mendapatkan daftar kolom data\n",
        "2.   Mendapatkan nama kolom kelas pada data (kolom terakhir pada data)\n",
        "3.   Mendapatkan nama-nama kelas pada data (unik).\n",
        "4.   Menghitung likelihood pada masing-masing kolom, nilai kolom, dan nilai kelas\n",
        "\n",
        "Sebagai saran, Anda dapat menggunakan struktur data dictionary untuk menyimpan nilai likelihood. Key pada dictionary tersebut adalah tuple(nama kolom, nilai pada kolom, nama kelas). Petunjuk penggunaan dictionary dengan key berupa tuple dapat dibaca [di sini](https://stackoverflow.com/questions/1938614/in-what-case-would-i-use-a-tuple-as-a-dictionary-key).\n",
        "\n"
      ]
    },
    {
      "cell_type": "code",
      "metadata": {
        "id": "0rwzCh38EA-H"
      },
      "source": [
        "def hitung_likelihood_multinomial(data_latih):\n",
        "  list_columns = data_latih.columns[:-1]\n",
        "  class_column_name = data_latih.columns[-1]\n",
        "  list_class = np.unique(data_latih[class_column_name])\n",
        "  likelihood = {}\n",
        "\n",
        "  for a_class in list_class:\n",
        "    for column in list_columns:\n",
        "      grouped = data_latih.groupby(column).size()\n",
        "      unique_val = grouped.index\n",
        "      for col_ in unique_val :\n",
        "        likelihood[(column, col_, a_class)] = 0\n",
        "\n",
        "  for a_class in list_class:\n",
        "    for column in list_columns:\n",
        "      grouped = data_latih[data_latih[class_column_name] == a_class].groupby(column).size()\n",
        "      unique_val = grouped.index\n",
        "      for col_ in unique_val:\n",
        "        numerator = grouped[col_]\n",
        "        denominator = data_latih.groupby('class').size()[a_class]\n",
        "        likelihood[(column, col_, a_class)] = numerator / denominator\n",
        "  return likelihood"
      ],
      "execution_count": null,
      "outputs": []
    },
    {
      "cell_type": "markdown",
      "metadata": {
        "id": "8-Qsp6QqjlUL"
      },
      "source": [
        "Ujilah fungsi **hitung_likelihood_multinomial** dengan parameter input berupa variabel **tugas_latih**"
      ]
    },
    {
      "cell_type": "code",
      "metadata": {
        "id": "sdywZ5Ej6nM6",
        "outputId": "3d651ec7-6d62-42d9-d18e-f34f2bc87ef5",
        "colab": {
          "base_uri": "https://localhost:8080/"
        }
      },
      "source": [
        "likelihood = hitung_likelihood_multinomial(tugas_latih)\n",
        "print(likelihood)"
      ],
      "execution_count": null,
      "outputs": [
        {
          "output_type": "stream",
          "name": "stdout",
          "text": [
            "{('buying', 'high', 'acc'): 0.2825278810408922, ('buying', 'low', 'acc'): 0.22304832713754646, ('buying', 'med', 'acc'): 0.2936802973977695, ('buying', 'vhigh', 'acc'): 0.20074349442379183, ('maint', 'high', 'acc'): 0.2825278810408922, ('maint', 'low', 'acc'): 0.24535315985130113, ('maint', 'med', 'acc'): 0.29739776951672864, ('maint', 'vhigh', 'acc'): 0.17472118959107807, ('doors', '2', 'acc'): 0.22304832713754646, ('doors', '3', 'acc'): 0.241635687732342, ('doors', '4', 'acc'): 0.275092936802974, ('doors', '5more', 'acc'): 0.26022304832713755, ('persons', '2', 'acc'): 0, ('persons', '4', 'acc'): 0.5315985130111525, ('persons', 'more', 'acc'): 0.4684014869888476, ('lug_boot', 'big', 'acc'): 0.3903345724907063, ('lug_boot', 'med', 'acc'): 0.3420074349442379, ('lug_boot', 'small', 'acc'): 0.26765799256505574, ('safety', 'high', 'acc'): 0.5353159851301115, ('safety', 'low', 'acc'): 0, ('safety', 'med', 'acc'): 0.4646840148698885, ('buying', 'high', 'good'): 0, ('buying', 'low', 'good'): 0.68, ('buying', 'med', 'good'): 0.32, ('buying', 'vhigh', 'good'): 0, ('maint', 'high', 'good'): 0, ('maint', 'low', 'good'): 0.7, ('maint', 'med', 'good'): 0.3, ('maint', 'vhigh', 'good'): 0, ('doors', '2', 'good'): 0.24, ('doors', '3', 'good'): 0.26, ('doors', '4', 'good'): 0.3, ('doors', '5more', 'good'): 0.2, ('persons', '2', 'good'): 0, ('persons', '4', 'good'): 0.56, ('persons', 'more', 'good'): 0.44, ('lug_boot', 'big', 'good'): 0.34, ('lug_boot', 'med', 'good'): 0.38, ('lug_boot', 'small', 'good'): 0.28, ('safety', 'high', 'good'): 0.46, ('safety', 'low', 'good'): 0, ('safety', 'med', 'good'): 0.54, ('buying', 'high', 'unacc'): 0.2823529411764706, ('buying', 'low', 'unacc'): 0.20941176470588235, ('buying', 'med', 'unacc'): 0.2223529411764706, ('buying', 'vhigh', 'unacc'): 0.2858823529411765, ('maint', 'high', 'unacc'): 0.24705882352941178, ('maint', 'low', 'unacc'): 0.23176470588235293, ('maint', 'med', 'unacc'): 0.21411764705882352, ('maint', 'vhigh', 'unacc'): 0.3070588235294118, ('doors', '2', 'unacc'): 0.26823529411764707, ('doors', '3', 'unacc'): 0.24352941176470588, ('doors', '4', 'unacc'): 0.2388235294117647, ('doors', '5more', 'unacc'): 0.24941176470588236, ('persons', '2', 'unacc'): 0.4682352941176471, ('persons', '4', 'unacc'): 0.2611764705882353, ('persons', 'more', 'unacc'): 0.27058823529411763, ('lug_boot', 'big', 'unacc'): 0.3035294117647059, ('lug_boot', 'med', 'unacc'): 0.32235294117647056, ('lug_boot', 'small', 'unacc'): 0.37411764705882355, ('safety', 'high', 'unacc'): 0.2223529411764706, ('safety', 'low', 'unacc'): 0.48, ('safety', 'med', 'unacc'): 0.29764705882352943, ('buying', 'high', 'vgood'): 0, ('buying', 'low', 'vgood'): 0.625, ('buying', 'med', 'vgood'): 0.375, ('buying', 'vhigh', 'vgood'): 0, ('maint', 'high', 'vgood'): 0.25, ('maint', 'low', 'vgood'): 0.425, ('maint', 'med', 'vgood'): 0.325, ('maint', 'vhigh', 'vgood'): 0, ('doors', '2', 'vgood'): 0.2, ('doors', '3', 'vgood'): 0.225, ('doors', '4', 'vgood'): 0.2, ('doors', '5more', 'vgood'): 0.375, ('persons', '2', 'vgood'): 0, ('persons', '4', 'vgood'): 0.45, ('persons', 'more', 'vgood'): 0.55, ('lug_boot', 'big', 'vgood'): 0.625, ('lug_boot', 'med', 'vgood'): 0.375, ('lug_boot', 'small', 'vgood'): 0, ('safety', 'high', 'vgood'): 1.0, ('safety', 'low', 'vgood'): 0, ('safety', 'med', 'vgood'): 0}\n"
          ]
        }
      ]
    },
    {
      "cell_type": "markdown",
      "metadata": {
        "id": "YaVwZpzzjvB9"
      },
      "source": [
        "Buatlah fungsi bernama **training_naive_bayes_multinomial** dengan input berupa data latih. Fungsi ini bertujuan membentuk model yang berisi:\n",
        "\n",
        "\n",
        "1.   Nilai prior semua kelas\n",
        "2.   Nilai likelihood semua kolom, nilai kolom, dan kelas\n",
        "3.   Daftar kelas pada data latih (unik)\n",
        "4.   Daftar nama kolom pada data latih\n",
        "\n",
        "Return value dari fungsi ini adalah **model**\n",
        "\n"
      ]
    },
    {
      "cell_type": "code",
      "metadata": {
        "id": "nh03SXjX6t1E"
      },
      "source": [
        "def training_naive_bayes_multinomial(data_latih):\n",
        "  class_column_name = data_latih.columns[-1]\n",
        "  list_columns = tugas_latih.columns[:-1]\n",
        "  model = {}\n",
        "  model['prior'] = hitung_prior(data_latih[class_column_name])\n",
        "  model['likelihood'] = hitung_likelihood_multinomial(data_latih)\n",
        "  model['list_class'] = set(tugas_latih[class_column_name])\n",
        "  model['list_columns'] = data_latih.columns[:-1]\n",
        "\n",
        "  return model"
      ],
      "execution_count": null,
      "outputs": []
    },
    {
      "cell_type": "markdown",
      "metadata": {
        "id": "2_lcX8vclhWd"
      },
      "source": [
        "Jalankan fungsi **training_naive_bayes_multinomial** dan simpan hasilnya dalam variabel **model_tugas**"
      ]
    },
    {
      "cell_type": "code",
      "metadata": {
        "id": "pegse0eL7sRG",
        "colab": {
          "base_uri": "https://localhost:8080/"
        },
        "outputId": "2b7520e8-fe10-463c-c203-415913d26a6d"
      },
      "source": [
        "model_tugas = training_naive_bayes_multinomial(tugas_latih)\n",
        "print(model_tugas)"
      ],
      "execution_count": null,
      "outputs": [
        {
          "output_type": "stream",
          "name": "stdout",
          "text": [
            "{'prior': Counter({'unacc': 0.7030603804797353, 'acc': 0.22249793217535152, 'good': 0.0413564929693962, 'vgood': 0.033085194375516956}), 'likelihood': {('buying', 'high', 'acc'): 0.2825278810408922, ('buying', 'low', 'acc'): 0.22304832713754646, ('buying', 'med', 'acc'): 0.2936802973977695, ('buying', 'vhigh', 'acc'): 0.20074349442379183, ('maint', 'high', 'acc'): 0.2825278810408922, ('maint', 'low', 'acc'): 0.24535315985130113, ('maint', 'med', 'acc'): 0.29739776951672864, ('maint', 'vhigh', 'acc'): 0.17472118959107807, ('doors', '2', 'acc'): 0.22304832713754646, ('doors', '3', 'acc'): 0.241635687732342, ('doors', '4', 'acc'): 0.275092936802974, ('doors', '5more', 'acc'): 0.26022304832713755, ('persons', '2', 'acc'): 0, ('persons', '4', 'acc'): 0.5315985130111525, ('persons', 'more', 'acc'): 0.4684014869888476, ('lug_boot', 'big', 'acc'): 0.3903345724907063, ('lug_boot', 'med', 'acc'): 0.3420074349442379, ('lug_boot', 'small', 'acc'): 0.26765799256505574, ('safety', 'high', 'acc'): 0.5353159851301115, ('safety', 'low', 'acc'): 0, ('safety', 'med', 'acc'): 0.4646840148698885, ('buying', 'high', 'good'): 0, ('buying', 'low', 'good'): 0.68, ('buying', 'med', 'good'): 0.32, ('buying', 'vhigh', 'good'): 0, ('maint', 'high', 'good'): 0, ('maint', 'low', 'good'): 0.7, ('maint', 'med', 'good'): 0.3, ('maint', 'vhigh', 'good'): 0, ('doors', '2', 'good'): 0.24, ('doors', '3', 'good'): 0.26, ('doors', '4', 'good'): 0.3, ('doors', '5more', 'good'): 0.2, ('persons', '2', 'good'): 0, ('persons', '4', 'good'): 0.56, ('persons', 'more', 'good'): 0.44, ('lug_boot', 'big', 'good'): 0.34, ('lug_boot', 'med', 'good'): 0.38, ('lug_boot', 'small', 'good'): 0.28, ('safety', 'high', 'good'): 0.46, ('safety', 'low', 'good'): 0, ('safety', 'med', 'good'): 0.54, ('buying', 'high', 'unacc'): 0.2823529411764706, ('buying', 'low', 'unacc'): 0.20941176470588235, ('buying', 'med', 'unacc'): 0.2223529411764706, ('buying', 'vhigh', 'unacc'): 0.2858823529411765, ('maint', 'high', 'unacc'): 0.24705882352941178, ('maint', 'low', 'unacc'): 0.23176470588235293, ('maint', 'med', 'unacc'): 0.21411764705882352, ('maint', 'vhigh', 'unacc'): 0.3070588235294118, ('doors', '2', 'unacc'): 0.26823529411764707, ('doors', '3', 'unacc'): 0.24352941176470588, ('doors', '4', 'unacc'): 0.2388235294117647, ('doors', '5more', 'unacc'): 0.24941176470588236, ('persons', '2', 'unacc'): 0.4682352941176471, ('persons', '4', 'unacc'): 0.2611764705882353, ('persons', 'more', 'unacc'): 0.27058823529411763, ('lug_boot', 'big', 'unacc'): 0.3035294117647059, ('lug_boot', 'med', 'unacc'): 0.32235294117647056, ('lug_boot', 'small', 'unacc'): 0.37411764705882355, ('safety', 'high', 'unacc'): 0.2223529411764706, ('safety', 'low', 'unacc'): 0.48, ('safety', 'med', 'unacc'): 0.29764705882352943, ('buying', 'high', 'vgood'): 0, ('buying', 'low', 'vgood'): 0.625, ('buying', 'med', 'vgood'): 0.375, ('buying', 'vhigh', 'vgood'): 0, ('maint', 'high', 'vgood'): 0.25, ('maint', 'low', 'vgood'): 0.425, ('maint', 'med', 'vgood'): 0.325, ('maint', 'vhigh', 'vgood'): 0, ('doors', '2', 'vgood'): 0.2, ('doors', '3', 'vgood'): 0.225, ('doors', '4', 'vgood'): 0.2, ('doors', '5more', 'vgood'): 0.375, ('persons', '2', 'vgood'): 0, ('persons', '4', 'vgood'): 0.45, ('persons', 'more', 'vgood'): 0.55, ('lug_boot', 'big', 'vgood'): 0.625, ('lug_boot', 'med', 'vgood'): 0.375, ('lug_boot', 'small', 'vgood'): 0, ('safety', 'high', 'vgood'): 1.0, ('safety', 'low', 'vgood'): 0, ('safety', 'med', 'vgood'): 0}, 'list_class': {'good', 'unacc', 'vgood', 'acc'}, 'list_columns': Index(['buying', 'maint', 'doors', 'persons', 'lug_boot', 'safety'], dtype='object')}\n"
          ]
        }
      ]
    },
    {
      "cell_type": "markdown",
      "metadata": {
        "id": "ZzgoGxFUlxHX"
      },
      "source": [
        "Buatlah fungsi **testing_naive_bayes_multinomial** untuk mendapatkan kelas dari sebuah data uji. Langkah yang dilakukan hampir sama dengan Gaussian, yaitu mengalikan likelihood semua kolom dengan posterior."
      ]
    },
    {
      "cell_type": "code",
      "metadata": {
        "id": "04RhlW2U8k1A"
      },
      "source": [
        "def testing_naive_bayes_multinomial(model,data_uji):\n",
        "  likelihood = model['likelihood']\n",
        "  list_class = model['list_class']\n",
        "  list_columns = model['list_columns']\n",
        "  prior = model['prior']\n",
        "  posterior = dict.fromkeys(list_class, 1)\n",
        "  for a_class in list_class:\n",
        "    for column in list_columns:\n",
        "      col_ = str(data_uji[column])\n",
        "      posterior[a_class] = posterior[a_class] * likelihood[column, col_, a_class]\n",
        "    posterior[a_class] = posterior[a_class] * prior[a_class]\n",
        "  kelas_uji = max(posterior, key = posterior.get)\n",
        "  return kelas_uji"
      ],
      "execution_count": null,
      "outputs": []
    },
    {
      "cell_type": "markdown",
      "metadata": {
        "id": "c9MTFBRdmYCZ"
      },
      "source": [
        "Lakukan pengujian menggunakan sebuah data uji"
      ]
    },
    {
      "cell_type": "code",
      "metadata": {
        "id": "o1EE-Rw39T68",
        "outputId": "e3092806-aa22-494c-d60c-e692403273af",
        "colab": {
          "base_uri": "https://localhost:8080/"
        }
      },
      "source": [
        "idx = 10\n",
        "uji = tugas_uji.iloc[idx]\n",
        "kelas_uji = testing_naive_bayes_multinomial(model_tugas,uji)\n",
        "print(kelas_uji)\n",
        "print(tugas_label_uji.iloc[idx])"
      ],
      "execution_count": null,
      "outputs": [
        {
          "output_type": "stream",
          "name": "stdout",
          "text": [
            "unacc\n",
            "unacc\n"
          ]
        }
      ]
    },
    {
      "cell_type": "markdown",
      "metadata": {
        "id": "3rGLrkbcmd10"
      },
      "source": [
        "Lakukan pengujian terhadap semua data uji."
      ]
    },
    {
      "cell_type": "code",
      "metadata": {
        "id": "F1FkA8yC9bGy",
        "outputId": "7c78d800-6491-45d2-eceb-4dcc3add1890",
        "colab": {
          "base_uri": "https://localhost:8080/"
        }
      },
      "source": [
        "prediksi_total =[]\n",
        "for indeks in range(tugas_uji.shape[0]):\n",
        "  prediksi_total.append(testing_naive_bayes_multinomial(model_tugas,tugas_uji.iloc[indeks]))\n",
        "print(\"Total prediksi benar: \",sum(prediksi_total==tugas_label_uji))"
      ],
      "execution_count": null,
      "outputs": [
        {
          "output_type": "stream",
          "name": "stdout",
          "text": [
            "Total prediksi benar:  434\n"
          ]
        }
      ]
    },
    {
      "cell_type": "code",
      "metadata": {
        "id": "ZRgDmuUX_X_o",
        "outputId": "b2705840-10c8-435e-fe7a-6c69d260f901",
        "colab": {
          "base_uri": "https://localhost:8080/"
        }
      },
      "source": [
        "len(tugas_label_uji)"
      ],
      "execution_count": null,
      "outputs": [
        {
          "output_type": "execute_result",
          "data": {
            "text/plain": [
              "519"
            ]
          },
          "metadata": {},
          "execution_count": 43
        }
      ]
    },
    {
      "cell_type": "code",
      "metadata": {
        "id": "qzcjfgqO_exR"
      },
      "source": [],
      "execution_count": null,
      "outputs": []
    }
  ]
}