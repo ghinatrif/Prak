{
  "nbformat": 4,
  "nbformat_minor": 0,
  "metadata": {
    "colab": {
      "provenance": []
    },
    "kernelspec": {
      "name": "python3",
      "display_name": "Python 3"
    }
  },
  "cells": [
    {
      "cell_type": "markdown",
      "metadata": {
        "id": "-qDsm6BnME2X"
      },
      "source": [
        "# Praktikum Pengantar Pembelajaran Mesin\n",
        "\n",
        "\n",
        "---\n",
        "## Bab 3. Klasifikasi K-Nearest Neighbor (KNN)\n"
      ]
    },
    {
      "cell_type": "markdown",
      "metadata": {
        "id": "z_VawE4L4na8"
      },
      "source": [
        "Tuliskan Nama, NIM, dan kelas Anda:\n",
        "\n",
        "Nama  :Ghina Tri Fadilah\n",
        "\n",
        "NIM   :215150207111073\n",
        "\n",
        "Kelas :PPM-A"
      ]
    },
    {
      "cell_type": "markdown",
      "metadata": {
        "id": "sQAGcnK3MOS7"
      },
      "source": [
        "### 1) Import Data\n",
        "\n",
        "Unduh dataset yang akan digunakan pada praktikum kali ini. Anda dapat menggunakan aplikasi wget untuk mendowload dataset dan menyimpannya dalam Google Colab. Jalankan cell di bawah ini untuk mengunduh dataset"
      ]
    },
    {
      "cell_type": "code",
      "metadata": {
        "id": "FpjqVlzBMNLd",
        "colab": {
          "base_uri": "https://localhost:8080/"
        },
        "outputId": "704b26f0-4d6a-4bfd-8f2d-ecfd7b90a847"
      },
      "source": [
        "! wget https://gist.githubusercontent.com/netj/8836201/raw/6f9306ad21398ea43cba4f7d537619d0e07d5ae3/iris.csv"
      ],
      "execution_count": null,
      "outputs": [
        {
          "output_type": "stream",
          "name": "stdout",
          "text": [
            "--2023-03-16 02:04:32--  https://gist.githubusercontent.com/netj/8836201/raw/6f9306ad21398ea43cba4f7d537619d0e07d5ae3/iris.csv\n",
            "Resolving gist.githubusercontent.com (gist.githubusercontent.com)... 185.199.108.133, 185.199.109.133, 185.199.110.133, ...\n",
            "Connecting to gist.githubusercontent.com (gist.githubusercontent.com)|185.199.108.133|:443... connected.\n",
            "HTTP request sent, awaiting response... 200 OK\n",
            "Length: 3975 (3.9K) [text/plain]\n",
            "Saving to: ‘iris.csv’\n",
            "\n",
            "\riris.csv              0%[                    ]       0  --.-KB/s               \riris.csv            100%[===================>]   3.88K  --.-KB/s    in 0s      \n",
            "\n",
            "2023-03-16 02:04:33 (45.8 MB/s) - ‘iris.csv’ saved [3975/3975]\n",
            "\n"
          ]
        }
      ]
    },
    {
      "cell_type": "markdown",
      "metadata": {
        "id": "SJy4t3lIOgGp"
      },
      "source": [
        "Setelah dataset berhasil diunduh, langkah berikutnya adalah membaca dataset dengan memanfaatkan fungsi **readcsv** dari library pandas. Lakukan pembacaan berkas csv ke dalam dataframe dengan nama **data** menggunakan fungsi **readcsv**. Jangan lupa untuk melakukan import library pandas terlebih dahulu\n"
      ]
    },
    {
      "cell_type": "code",
      "metadata": {
        "id": "mdhbxk_2OzbB"
      },
      "source": [
        "import pandas as pd\n",
        "import numpy as np\n",
        "data = pd.read_csv('iris.csv')"
      ],
      "execution_count": null,
      "outputs": []
    },
    {
      "cell_type": "markdown",
      "metadata": {
        "id": "w6NfrIDTOK38"
      },
      "source": [
        "\n",
        "\n",
        "Cek isi dataset Anda dengan menggunakan perintah **head()**"
      ]
    },
    {
      "cell_type": "code",
      "metadata": {
        "id": "Uaiaj796OFH3",
        "colab": {
          "base_uri": "https://localhost:8080/",
          "height": 206
        },
        "outputId": "77af3133-499a-43c0-a4a4-fb100dbfaeca"
      },
      "source": [
        "data.head()"
      ],
      "execution_count": null,
      "outputs": [
        {
          "output_type": "execute_result",
          "data": {
            "text/plain": [
              "   sepal.length  sepal.width  petal.length  petal.width variety\n",
              "0           5.1          3.5           1.4          0.2  Setosa\n",
              "1           4.9          3.0           1.4          0.2  Setosa\n",
              "2           4.7          3.2           1.3          0.2  Setosa\n",
              "3           4.6          3.1           1.5          0.2  Setosa\n",
              "4           5.0          3.6           1.4          0.2  Setosa"
            ],
            "text/html": [
              "\n",
              "  <div id=\"df-6378a343-9ccd-49b1-87e2-d0a85826ff46\">\n",
              "    <div class=\"colab-df-container\">\n",
              "      <div>\n",
              "<style scoped>\n",
              "    .dataframe tbody tr th:only-of-type {\n",
              "        vertical-align: middle;\n",
              "    }\n",
              "\n",
              "    .dataframe tbody tr th {\n",
              "        vertical-align: top;\n",
              "    }\n",
              "\n",
              "    .dataframe thead th {\n",
              "        text-align: right;\n",
              "    }\n",
              "</style>\n",
              "<table border=\"1\" class=\"dataframe\">\n",
              "  <thead>\n",
              "    <tr style=\"text-align: right;\">\n",
              "      <th></th>\n",
              "      <th>sepal.length</th>\n",
              "      <th>sepal.width</th>\n",
              "      <th>petal.length</th>\n",
              "      <th>petal.width</th>\n",
              "      <th>variety</th>\n",
              "    </tr>\n",
              "  </thead>\n",
              "  <tbody>\n",
              "    <tr>\n",
              "      <th>0</th>\n",
              "      <td>5.1</td>\n",
              "      <td>3.5</td>\n",
              "      <td>1.4</td>\n",
              "      <td>0.2</td>\n",
              "      <td>Setosa</td>\n",
              "    </tr>\n",
              "    <tr>\n",
              "      <th>1</th>\n",
              "      <td>4.9</td>\n",
              "      <td>3.0</td>\n",
              "      <td>1.4</td>\n",
              "      <td>0.2</td>\n",
              "      <td>Setosa</td>\n",
              "    </tr>\n",
              "    <tr>\n",
              "      <th>2</th>\n",
              "      <td>4.7</td>\n",
              "      <td>3.2</td>\n",
              "      <td>1.3</td>\n",
              "      <td>0.2</td>\n",
              "      <td>Setosa</td>\n",
              "    </tr>\n",
              "    <tr>\n",
              "      <th>3</th>\n",
              "      <td>4.6</td>\n",
              "      <td>3.1</td>\n",
              "      <td>1.5</td>\n",
              "      <td>0.2</td>\n",
              "      <td>Setosa</td>\n",
              "    </tr>\n",
              "    <tr>\n",
              "      <th>4</th>\n",
              "      <td>5.0</td>\n",
              "      <td>3.6</td>\n",
              "      <td>1.4</td>\n",
              "      <td>0.2</td>\n",
              "      <td>Setosa</td>\n",
              "    </tr>\n",
              "  </tbody>\n",
              "</table>\n",
              "</div>\n",
              "      <button class=\"colab-df-convert\" onclick=\"convertToInteractive('df-6378a343-9ccd-49b1-87e2-d0a85826ff46')\"\n",
              "              title=\"Convert this dataframe to an interactive table.\"\n",
              "              style=\"display:none;\">\n",
              "        \n",
              "  <svg xmlns=\"http://www.w3.org/2000/svg\" height=\"24px\"viewBox=\"0 0 24 24\"\n",
              "       width=\"24px\">\n",
              "    <path d=\"M0 0h24v24H0V0z\" fill=\"none\"/>\n",
              "    <path d=\"M18.56 5.44l.94 2.06.94-2.06 2.06-.94-2.06-.94-.94-2.06-.94 2.06-2.06.94zm-11 1L8.5 8.5l.94-2.06 2.06-.94-2.06-.94L8.5 2.5l-.94 2.06-2.06.94zm10 10l.94 2.06.94-2.06 2.06-.94-2.06-.94-.94-2.06-.94 2.06-2.06.94z\"/><path d=\"M17.41 7.96l-1.37-1.37c-.4-.4-.92-.59-1.43-.59-.52 0-1.04.2-1.43.59L10.3 9.45l-7.72 7.72c-.78.78-.78 2.05 0 2.83L4 21.41c.39.39.9.59 1.41.59.51 0 1.02-.2 1.41-.59l7.78-7.78 2.81-2.81c.8-.78.8-2.07 0-2.86zM5.41 20L4 18.59l7.72-7.72 1.47 1.35L5.41 20z\"/>\n",
              "  </svg>\n",
              "      </button>\n",
              "      \n",
              "  <style>\n",
              "    .colab-df-container {\n",
              "      display:flex;\n",
              "      flex-wrap:wrap;\n",
              "      gap: 12px;\n",
              "    }\n",
              "\n",
              "    .colab-df-convert {\n",
              "      background-color: #E8F0FE;\n",
              "      border: none;\n",
              "      border-radius: 50%;\n",
              "      cursor: pointer;\n",
              "      display: none;\n",
              "      fill: #1967D2;\n",
              "      height: 32px;\n",
              "      padding: 0 0 0 0;\n",
              "      width: 32px;\n",
              "    }\n",
              "\n",
              "    .colab-df-convert:hover {\n",
              "      background-color: #E2EBFA;\n",
              "      box-shadow: 0px 1px 2px rgba(60, 64, 67, 0.3), 0px 1px 3px 1px rgba(60, 64, 67, 0.15);\n",
              "      fill: #174EA6;\n",
              "    }\n",
              "\n",
              "    [theme=dark] .colab-df-convert {\n",
              "      background-color: #3B4455;\n",
              "      fill: #D2E3FC;\n",
              "    }\n",
              "\n",
              "    [theme=dark] .colab-df-convert:hover {\n",
              "      background-color: #434B5C;\n",
              "      box-shadow: 0px 1px 3px 1px rgba(0, 0, 0, 0.15);\n",
              "      filter: drop-shadow(0px 1px 2px rgba(0, 0, 0, 0.3));\n",
              "      fill: #FFFFFF;\n",
              "    }\n",
              "  </style>\n",
              "\n",
              "      <script>\n",
              "        const buttonEl =\n",
              "          document.querySelector('#df-6378a343-9ccd-49b1-87e2-d0a85826ff46 button.colab-df-convert');\n",
              "        buttonEl.style.display =\n",
              "          google.colab.kernel.accessAllowed ? 'block' : 'none';\n",
              "\n",
              "        async function convertToInteractive(key) {\n",
              "          const element = document.querySelector('#df-6378a343-9ccd-49b1-87e2-d0a85826ff46');\n",
              "          const dataTable =\n",
              "            await google.colab.kernel.invokeFunction('convertToInteractive',\n",
              "                                                     [key], {});\n",
              "          if (!dataTable) return;\n",
              "\n",
              "          const docLinkHtml = 'Like what you see? Visit the ' +\n",
              "            '<a target=\"_blank\" href=https://colab.research.google.com/notebooks/data_table.ipynb>data table notebook</a>'\n",
              "            + ' to learn more about interactive tables.';\n",
              "          element.innerHTML = '';\n",
              "          dataTable['output_type'] = 'display_data';\n",
              "          await google.colab.output.renderOutput(dataTable, element);\n",
              "          const docLink = document.createElement('div');\n",
              "          docLink.innerHTML = docLinkHtml;\n",
              "          element.appendChild(docLink);\n",
              "        }\n",
              "      </script>\n",
              "    </div>\n",
              "  </div>\n",
              "  "
            ]
          },
          "metadata": {},
          "execution_count": 3
        }
      ]
    },
    {
      "cell_type": "markdown",
      "metadata": {
        "id": "lfi1uHIxPdDe"
      },
      "source": [
        "## 2) Membagi data menjadi data latih dan data uji\n",
        "\n",
        "Metode pembelajaran mesin memerlukan dua jenis data :\n",
        "\n",
        "\n",
        "1.   Data latih : Digunakan untuk proses training metode klasifikasi\n",
        "2.   Data uji : Digunakan untuk proses evaluasi metode klasifikasi\n",
        "\n",
        "Data uji dan data latih perlu dibuat terpisah (mutualy exclusive) agar hasil evaluasi lebih akurat.\n",
        "\n",
        "Data uji dan data latih dapat dibuat dengan cara membagi dataset dengan rasio tertentu, misalnya 80% data latih dan 20% data uji.\n",
        "\n",
        "Library Scikit-learn memiliki fungsi [train_test_split](https://scikit-learn.org/stable/modules/generated/sklearn.model_selection.train_test_split.html) pada modul **model_selection** untuk membagi dataset menjadi data latih dan data uji. Bagilah dataset anda menjadi dua, yaitu **data_latih** dan **data_uji**.\n"
      ]
    },
    {
      "cell_type": "code",
      "metadata": {
        "id": "jJjfXgfmPTlU"
      },
      "source": [
        "from sklearn.model_selection import train_test_split\n",
        "data_latih,data_uji = train_test_split(data,test_size=0.2)"
      ],
      "execution_count": null,
      "outputs": []
    },
    {
      "cell_type": "markdown",
      "metadata": {
        "id": "tBhcsUDYfw2q"
      },
      "source": [
        "Tampilkan banyaknya data pada **data_latih** dan **data_uji**. Seharusnya **data_latih** terdiri dari 120 data, dan **data_uji** terdiri dari 30 data"
      ]
    },
    {
      "cell_type": "code",
      "metadata": {
        "id": "6OtySD4efmmQ",
        "colab": {
          "base_uri": "https://localhost:8080/"
        },
        "outputId": "093aeff9-c16a-4559-8823-15f6d9f3bf74"
      },
      "source": [
        "print(data_uji.shape[0])\n",
        "print(data_latih.shape[0])"
      ],
      "execution_count": null,
      "outputs": [
        {
          "output_type": "stream",
          "name": "stdout",
          "text": [
            "30\n",
            "120\n"
          ]
        }
      ]
    },
    {
      "cell_type": "markdown",
      "metadata": {
        "id": "DeU-FCyTkVKC"
      },
      "source": [
        "Pisahkan label/kategori dari data latih dan data uji menjadi variabel tersendiri. Beri nama variabelnya **label_latih** dan **label_uji**"
      ]
    },
    {
      "cell_type": "code",
      "metadata": {
        "id": "e4vC_M0mkkl3"
      },
      "source": [
        "label_latih = data_latih.pop('variety')\n",
        "label_uji = data_uji.pop('variety')"
      ],
      "execution_count": null,
      "outputs": []
    },
    {
      "cell_type": "code",
      "metadata": {
        "id": "ogQLMrUjlU2_",
        "colab": {
          "base_uri": "https://localhost:8080/"
        },
        "outputId": "604c4402-2852-40a9-fbe7-eaa44c728b3b"
      },
      "source": [
        "data_uji.head"
      ],
      "execution_count": null,
      "outputs": [
        {
          "output_type": "execute_result",
          "data": {
            "text/plain": [
              "<bound method NDFrame.head of      sepal.length  sepal.width  petal.length  petal.width\n",
              "54            6.5          2.8           4.6          1.5\n",
              "15            5.7          4.4           1.5          0.4\n",
              "51            6.4          3.2           4.5          1.5\n",
              "18            5.7          3.8           1.7          0.3\n",
              "6             4.6          3.4           1.4          0.3\n",
              "10            5.4          3.7           1.5          0.2\n",
              "0             5.1          3.5           1.4          0.2\n",
              "42            4.4          3.2           1.3          0.2\n",
              "16            5.4          3.9           1.3          0.4\n",
              "24            4.8          3.4           1.9          0.2\n",
              "50            7.0          3.2           4.7          1.4\n",
              "99            5.7          2.8           4.1          1.3\n",
              "72            6.3          2.5           4.9          1.5\n",
              "141           6.9          3.1           5.1          2.3\n",
              "97            6.2          2.9           4.3          1.3\n",
              "94            5.6          2.7           4.2          1.3\n",
              "9             4.9          3.1           1.5          0.1\n",
              "136           6.3          3.4           5.6          2.4\n",
              "55            5.7          2.8           4.5          1.3\n",
              "38            4.4          3.0           1.3          0.2\n",
              "126           6.2          2.8           4.8          1.8\n",
              "63            6.1          2.9           4.7          1.4\n",
              "28            5.2          3.4           1.4          0.2\n",
              "106           4.9          2.5           4.5          1.7\n",
              "45            4.8          3.0           1.4          0.3\n",
              "83            6.0          2.7           5.1          1.6\n",
              "33            5.5          4.2           1.4          0.2\n",
              "75            6.6          3.0           4.4          1.4\n",
              "113           5.7          2.5           5.0          2.0\n",
              "19            5.1          3.8           1.5          0.3>"
            ]
          },
          "metadata": {},
          "execution_count": 7
        }
      ]
    },
    {
      "cell_type": "markdown",
      "metadata": {
        "id": "xm_dJNeMgl9u"
      },
      "source": [
        "## 3) Menghitung jarak euclidean\n",
        "\n",
        "Tahapan awal dari algoritma KNN adalah perhitungan jarak. Salah satu metode perhitungan jarak yang bisa digunakan adalah jarak Euclidean. Buatlah fungsi bernama **jarakEu** yang berfungsi menghitung jarak euclidean dari dua buah vektor (tanpa kelas)"
      ]
    },
    {
      "cell_type": "code",
      "metadata": {
        "id": "QNEYOTLsfqld"
      },
      "source": [
        "def jarakEu(data1,data2):\n",
        "  jarak = np.square(data1-data2)\n",
        "  jarak = np.sum(jarak)\n",
        "  return np.sqrt(jarak)"
      ],
      "execution_count": null,
      "outputs": []
    },
    {
      "cell_type": "markdown",
      "metadata": {
        "id": "bfznAo4-tUM5"
      },
      "source": [
        "Uji fungsi **jarakEu** untuk menghitung jarak antara data latih pertama dengan data uji pertama."
      ]
    },
    {
      "cell_type": "code",
      "metadata": {
        "id": "kEK4o1-LicZ5",
        "colab": {
          "base_uri": "https://localhost:8080/"
        },
        "outputId": "55907f6c-103a-4ee2-ba1b-232f7bea42c7"
      },
      "source": [
        "jarak = jarakEu(data_latih.iloc[0],data_uji.iloc[0])\n",
        "print(jarak)"
      ],
      "execution_count": null,
      "outputs": [
        {
          "output_type": "stream",
          "name": "stdout",
          "text": [
            "3.54259791678367\n"
          ]
        }
      ]
    },
    {
      "cell_type": "markdown",
      "metadata": {
        "id": "46FZOwFIlkM_"
      },
      "source": [
        "## 4) Algoritma KNN\n",
        "\n",
        "Implementasikan algoritma KNN dengan tahapan-tahapan berikut :\n",
        "1. Hitung jarak antara data uji dengan setiap data latih.\n",
        "2. Cari *k* data latih dengan jarak terkecil.\n",
        "3. Tentukan kelas dari *k* data latih tersebut.\n",
        "4. Kelas data uji ditentukan dari mayoritas kelas *k* data latih.\n",
        "\n",
        "Buatlah fungsi dengan nama **knn** yang menerima input berupa *k*, sekumpulan data latih dan labelnya, serta sebuah data uji"
      ]
    },
    {
      "cell_type": "code",
      "metadata": {
        "id": "qFB6pLbeikcG"
      },
      "source": [
        "from collections import Counter\n",
        "def knn(k,datalatih,labellatih,datauji):\n",
        "  jarak = np.array([jarakEu(datalatih.iloc[x],datauji)\n",
        "  for x in range(datalatih.shape[0])])\n",
        "  indeks_k_minimum = jarak.argsort()[:k]\n",
        "  k_kelas = labellatih.iloc[indeks_k_minimum].to_numpy()\n",
        "  counter = Counter(k_kelas)\n",
        "  kelas_uji = counter.most_common(1)[0][0]\n",
        "  return kelas_uji"
      ],
      "execution_count": null,
      "outputs": []
    },
    {
      "cell_type": "markdown",
      "metadata": {
        "id": "m7PEASGt0I04"
      },
      "source": [
        "Lakukan pengujian fungsi **knn** untuk menentukan kelas dari data uji pertama"
      ]
    },
    {
      "cell_type": "code",
      "metadata": {
        "id": "2DfvWo7Nr2Iw",
        "colab": {
          "base_uri": "https://localhost:8080/"
        },
        "outputId": "72b0bbe1-00d9-4574-a377-54054dc3e125"
      },
      "source": [
        "hasil = knn(3, data_latih, label_latih,data_uji.iloc[0])\n",
        "print(hasil)"
      ],
      "execution_count": null,
      "outputs": [
        {
          "output_type": "stream",
          "name": "stdout",
          "text": [
            "Versicolor\n"
          ]
        }
      ]
    },
    {
      "cell_type": "markdown",
      "metadata": {
        "id": "c7qKiXO3cINi"
      },
      "source": [
        "## 5) KNN pada Scikit-learn\n",
        "\n",
        "Library scikit-learn memiliki algoritma KNN yang siap untuk digunakan. Sebagai pengenalan, Anda akan melakukan klasifikasi data yang sama menggunakan KNN yang tersedia pada library scikit-learn"
      ]
    },
    {
      "cell_type": "code",
      "metadata": {
        "id": "Rmt06ECzcdbf",
        "colab": {
          "base_uri": "https://localhost:8080/"
        },
        "outputId": "defa97e6-0c3a-4819-d1e7-108b330ce5ca"
      },
      "source": [
        "from sklearn.neighbors import KNeighborsClassifier\n",
        "KKN = KNeighborsClassifier(n_neighbors=3)\n",
        "KKN.fit(data_latih,label_latih)\n",
        "kelas = KKN.predict([data_uji.iloc[0]])\n",
        "print(kelas)"
      ],
      "execution_count": null,
      "outputs": [
        {
          "output_type": "stream",
          "name": "stdout",
          "text": [
            "['Versicolor']\n"
          ]
        },
        {
          "output_type": "stream",
          "name": "stderr",
          "text": [
            "/usr/local/lib/python3.9/dist-packages/sklearn/base.py:439: UserWarning: X does not have valid feature names, but KNeighborsClassifier was fitted with feature names\n",
            "  warnings.warn(\n"
          ]
        }
      ]
    },
    {
      "cell_type": "markdown",
      "metadata": {
        "id": "ZiDmUxVBuo42"
      },
      "source": [
        "## TUGAS\n",
        "1. Buatlah fungsi bernama **jarakCity** yang berfungsi menghitung jarak City Block antara dua vektor.\n",
        "2. Buatlah sebuah fungsi bernama **knn_multi** yang dapat menentukan kelas dari **semua** data uji (Fungsi **knn** yang sudah Anda buat hanya dapat menentukan kelas dari sebuah data uji. Anda dapat memanfaatkan fungsi **knn** yang telah ada\n",
        "3. Buatlah fungsi bernama **cek_hasil** yang berfungsi membandingkan hasil klasifikasi dengan label sebenarnya. Fungsi ini menerima input 2 buah list, yaitu list label hasil klasifikasi dan list label data uji yang sebenarnya. Output dari fungsi ini adalah integer, yang menunjukkan berapa banyak label hasil klasifikasi yang sama dengan label data uji sebenarnya.\n",
        "4. Jalankan fungsi **knn_multi** dengan nilai k=3, k=7,k=9 dan k=13. Amati hasil dari fungsi **cek_hasil** dengan nilai k tersebut. Apa kesimpulan Anda?"
      ]
    },
    {
      "cell_type": "code",
      "metadata": {
        "id": "BgNZPfuvrV0K"
      },
      "source": [
        "#jawaban soal 1\n",
        "def jarakCity(data1, data2):\n",
        "  jarak = np.abs(data1 - data2)\n",
        "  return np.sum(jarak)"
      ],
      "execution_count": null,
      "outputs": []
    },
    {
      "cell_type": "code",
      "source": [
        "jarak = jarakCity(data_latih.iloc[0], data_uji.iloc[0])\n",
        "jarak"
      ],
      "metadata": {
        "colab": {
          "base_uri": "https://localhost:8080/"
        },
        "id": "SOovtKRPMMOK",
        "outputId": "12053c9c-e134-4400-d223-72f54a10e9dd"
      },
      "execution_count": null,
      "outputs": [
        {
          "output_type": "execute_result",
          "data": {
            "text/plain": [
              "6.1"
            ]
          },
          "metadata": {},
          "execution_count": 16
        }
      ]
    },
    {
      "cell_type": "code",
      "source": [
        "from scipy.spatial.distance import cityblock\n",
        "print(cityblock(data_latih.iloc[0], data_uji.iloc[0]))"
      ],
      "metadata": {
        "colab": {
          "base_uri": "https://localhost:8080/"
        },
        "id": "QJtYBN3LMN0u",
        "outputId": "91971b87-86d0-45eb-c62a-2c91d9679fe4"
      },
      "execution_count": null,
      "outputs": [
        {
          "output_type": "stream",
          "name": "stdout",
          "text": [
            "6.1\n"
          ]
        }
      ]
    },
    {
      "cell_type": "code",
      "source": [
        "def knn_Manhattan(k, data_latih, label_latih, data_uji):\n",
        "  jarak = np.array([jarakCity(data_latih.iloc[x], data_uji) for x in range(data_latih.shape[0])])\n",
        "  indeks_k_minimum = jarak.argsort()[:k]\n",
        "  k_kelas = label_latih.iloc[indeks_k_minimum].to_numpy()\n",
        "  counter = Counter(k_kelas)\n",
        "  kelas_uji_mt = counter.most_common(1)[0][0]\n",
        "  return kelas_uji_mt"
      ],
      "metadata": {
        "id": "1oIgZgjQMbfh"
      },
      "execution_count": null,
      "outputs": []
    },
    {
      "cell_type": "code",
      "metadata": {
        "id": "B5OZWrTkJ7rg"
      },
      "source": [
        "#jawaban soal 2\n",
        "def knn_multi(k, datalatih, labellatih, datauji):\n",
        "  kelas_hasil = []\n",
        "  for i in range(datauji.shape[0]):\n",
        "    kelas_hasil.append(knn_Manhattan(k, datalatih, labellatih, datauji.iloc[i]))\n",
        "  return kelas_hasil"
      ],
      "execution_count": null,
      "outputs": []
    },
    {
      "cell_type": "code",
      "source": [
        "label_uji"
      ],
      "metadata": {
        "colab": {
          "base_uri": "https://localhost:8080/"
        },
        "id": "d-eL_r2GMkco",
        "outputId": "1afa182a-f46b-4fda-fd7d-48c7a5cc1ad0"
      },
      "execution_count": null,
      "outputs": [
        {
          "output_type": "execute_result",
          "data": {
            "text/plain": [
              "54     Versicolor\n",
              "15         Setosa\n",
              "51     Versicolor\n",
              "18         Setosa\n",
              "6          Setosa\n",
              "10         Setosa\n",
              "0          Setosa\n",
              "42         Setosa\n",
              "16         Setosa\n",
              "24         Setosa\n",
              "50     Versicolor\n",
              "99     Versicolor\n",
              "72     Versicolor\n",
              "141     Virginica\n",
              "97     Versicolor\n",
              "94     Versicolor\n",
              "9          Setosa\n",
              "136     Virginica\n",
              "55     Versicolor\n",
              "38         Setosa\n",
              "126     Virginica\n",
              "63     Versicolor\n",
              "28         Setosa\n",
              "106     Virginica\n",
              "45         Setosa\n",
              "83     Versicolor\n",
              "33         Setosa\n",
              "75     Versicolor\n",
              "113     Virginica\n",
              "19         Setosa\n",
              "Name: variety, dtype: object"
            ]
          },
          "metadata": {},
          "execution_count": 19
        }
      ]
    },
    {
      "cell_type": "code",
      "source": [
        "hasill = knn_multi(3, data_latih, label_latih, data_uji)\n",
        "hasill"
      ],
      "metadata": {
        "colab": {
          "base_uri": "https://localhost:8080/"
        },
        "id": "7jD0xzoqMpVW",
        "outputId": "a388619a-6946-4d72-cef0-eb82e2c2f399"
      },
      "execution_count": null,
      "outputs": [
        {
          "output_type": "execute_result",
          "data": {
            "text/plain": [
              "['Versicolor',\n",
              " 'Setosa',\n",
              " 'Versicolor',\n",
              " 'Setosa',\n",
              " 'Setosa',\n",
              " 'Setosa',\n",
              " 'Setosa',\n",
              " 'Setosa',\n",
              " 'Setosa',\n",
              " 'Setosa',\n",
              " 'Versicolor',\n",
              " 'Versicolor',\n",
              " 'Virginica',\n",
              " 'Virginica',\n",
              " 'Versicolor',\n",
              " 'Versicolor',\n",
              " 'Setosa',\n",
              " 'Virginica',\n",
              " 'Versicolor',\n",
              " 'Setosa',\n",
              " 'Virginica',\n",
              " 'Versicolor',\n",
              " 'Setosa',\n",
              " 'Versicolor',\n",
              " 'Setosa',\n",
              " 'Virginica',\n",
              " 'Setosa',\n",
              " 'Versicolor',\n",
              " 'Virginica',\n",
              " 'Setosa']"
            ]
          },
          "metadata": {},
          "execution_count": 20
        }
      ]
    },
    {
      "cell_type": "code",
      "metadata": {
        "id": "XoH2D5AAKLLJ"
      },
      "source": [
        "#jawaban soal 3\n",
        "def cek_hasil(datahasil, datauji) :\n",
        "  nilai = 0;\n",
        "  for k in range(datauji.shape[0]):\n",
        "    if datahasil[k]==datauji.iloc[k]:\n",
        "      nilai = nilai+1\n",
        "\n",
        "  return nilai"
      ],
      "execution_count": null,
      "outputs": []
    },
    {
      "cell_type": "code",
      "source": [
        "nilai = cek_hasil(hasill, label_uji)\n",
        "nilai"
      ],
      "metadata": {
        "colab": {
          "base_uri": "https://localhost:8080/"
        },
        "id": "FLNbmk8ZMzac",
        "outputId": "c2237b95-0151-4514-92ca-f312781565b9"
      },
      "execution_count": null,
      "outputs": [
        {
          "output_type": "execute_result",
          "data": {
            "text/plain": [
              "27"
            ]
          },
          "metadata": {},
          "execution_count": 23
        }
      ]
    },
    {
      "cell_type": "code",
      "metadata": {
        "id": "eUFsXtEQKOeN",
        "colab": {
          "base_uri": "https://localhost:8080/"
        },
        "outputId": "08317fce-c6fe-4bd8-af9e-b5a84b6def9e"
      },
      "source": [
        "#jawaban soal 4\n",
        "k3 = knn_multi(3, data_latih, label_latih, data_uji)\n",
        "k3"
      ],
      "execution_count": null,
      "outputs": [
        {
          "output_type": "execute_result",
          "data": {
            "text/plain": [
              "['Versicolor',\n",
              " 'Setosa',\n",
              " 'Versicolor',\n",
              " 'Setosa',\n",
              " 'Setosa',\n",
              " 'Setosa',\n",
              " 'Setosa',\n",
              " 'Setosa',\n",
              " 'Setosa',\n",
              " 'Setosa',\n",
              " 'Versicolor',\n",
              " 'Versicolor',\n",
              " 'Virginica',\n",
              " 'Virginica',\n",
              " 'Versicolor',\n",
              " 'Versicolor',\n",
              " 'Setosa',\n",
              " 'Virginica',\n",
              " 'Versicolor',\n",
              " 'Setosa',\n",
              " 'Virginica',\n",
              " 'Versicolor',\n",
              " 'Setosa',\n",
              " 'Versicolor',\n",
              " 'Setosa',\n",
              " 'Virginica',\n",
              " 'Setosa',\n",
              " 'Versicolor',\n",
              " 'Virginica',\n",
              " 'Setosa']"
            ]
          },
          "metadata": {},
          "execution_count": 24
        }
      ]
    },
    {
      "cell_type": "code",
      "source": [
        "print('Cek hasil : ', cek_hasil(k3, label_uji))"
      ],
      "metadata": {
        "colab": {
          "base_uri": "https://localhost:8080/"
        },
        "id": "JC8QazxUNI3i",
        "outputId": "1a3ce0e3-0567-43d6-c11e-c669356629bf"
      },
      "execution_count": null,
      "outputs": [
        {
          "output_type": "stream",
          "name": "stdout",
          "text": [
            "Cek hasil :  27\n"
          ]
        }
      ]
    },
    {
      "cell_type": "code",
      "source": [
        "k7 = knn_multi(7, data_latih, label_latih, data_uji)\n",
        "k7"
      ],
      "metadata": {
        "colab": {
          "base_uri": "https://localhost:8080/"
        },
        "id": "LrKMbaaDNKPv",
        "outputId": "4c83cd9c-1421-4fce-e0e2-58c50c6d79e9"
      },
      "execution_count": null,
      "outputs": [
        {
          "output_type": "execute_result",
          "data": {
            "text/plain": [
              "['Versicolor',\n",
              " 'Setosa',\n",
              " 'Versicolor',\n",
              " 'Setosa',\n",
              " 'Setosa',\n",
              " 'Setosa',\n",
              " 'Setosa',\n",
              " 'Setosa',\n",
              " 'Setosa',\n",
              " 'Setosa',\n",
              " 'Versicolor',\n",
              " 'Versicolor',\n",
              " 'Virginica',\n",
              " 'Virginica',\n",
              " 'Versicolor',\n",
              " 'Versicolor',\n",
              " 'Setosa',\n",
              " 'Virginica',\n",
              " 'Versicolor',\n",
              " 'Setosa',\n",
              " 'Virginica',\n",
              " 'Versicolor',\n",
              " 'Setosa',\n",
              " 'Versicolor',\n",
              " 'Setosa',\n",
              " 'Virginica',\n",
              " 'Setosa',\n",
              " 'Versicolor',\n",
              " 'Virginica',\n",
              " 'Setosa']"
            ]
          },
          "metadata": {},
          "execution_count": 26
        }
      ]
    },
    {
      "cell_type": "code",
      "source": [
        "print('Cek hasil : ', cek_hasil(k7, label_uji))"
      ],
      "metadata": {
        "colab": {
          "base_uri": "https://localhost:8080/"
        },
        "id": "C41Oj3v5NQTl",
        "outputId": "c44b358e-f7a7-4a02-9564-4faf5d836ed9"
      },
      "execution_count": null,
      "outputs": [
        {
          "output_type": "stream",
          "name": "stdout",
          "text": [
            "Cek hasil :  27\n"
          ]
        }
      ]
    },
    {
      "cell_type": "code",
      "source": [
        "k9 = knn_multi(9, data_latih, label_latih, data_uji)\n",
        "k9"
      ],
      "metadata": {
        "colab": {
          "base_uri": "https://localhost:8080/"
        },
        "id": "iPyNkdnHNRqk",
        "outputId": "8290228d-0178-4e55-ab6a-8a6393ca011b"
      },
      "execution_count": null,
      "outputs": [
        {
          "output_type": "execute_result",
          "data": {
            "text/plain": [
              "['Versicolor',\n",
              " 'Setosa',\n",
              " 'Versicolor',\n",
              " 'Setosa',\n",
              " 'Setosa',\n",
              " 'Setosa',\n",
              " 'Setosa',\n",
              " 'Setosa',\n",
              " 'Setosa',\n",
              " 'Setosa',\n",
              " 'Versicolor',\n",
              " 'Versicolor',\n",
              " 'Virginica',\n",
              " 'Virginica',\n",
              " 'Versicolor',\n",
              " 'Versicolor',\n",
              " 'Setosa',\n",
              " 'Virginica',\n",
              " 'Versicolor',\n",
              " 'Setosa',\n",
              " 'Virginica',\n",
              " 'Versicolor',\n",
              " 'Setosa',\n",
              " 'Versicolor',\n",
              " 'Setosa',\n",
              " 'Virginica',\n",
              " 'Setosa',\n",
              " 'Versicolor',\n",
              " 'Virginica',\n",
              " 'Setosa']"
            ]
          },
          "metadata": {},
          "execution_count": 28
        }
      ]
    },
    {
      "cell_type": "code",
      "source": [
        "print('Cek hasil : ', cek_hasil(k9, label_uji))"
      ],
      "metadata": {
        "colab": {
          "base_uri": "https://localhost:8080/"
        },
        "id": "qNerPxfxNUxg",
        "outputId": "7d9f3dff-d7b2-4d32-f55a-2c3ce993ae19"
      },
      "execution_count": null,
      "outputs": [
        {
          "output_type": "stream",
          "name": "stdout",
          "text": [
            "Cek hasil :  27\n"
          ]
        }
      ]
    },
    {
      "cell_type": "code",
      "source": [
        "k13 = knn_multi(13, data_latih, label_latih, data_uji)\n",
        "k13"
      ],
      "metadata": {
        "colab": {
          "base_uri": "https://localhost:8080/"
        },
        "id": "k9Ex5L4WNXvR",
        "outputId": "65d52be6-ecdc-4270-9386-7aac015a5a96"
      },
      "execution_count": null,
      "outputs": [
        {
          "output_type": "execute_result",
          "data": {
            "text/plain": [
              "['Versicolor',\n",
              " 'Setosa',\n",
              " 'Versicolor',\n",
              " 'Setosa',\n",
              " 'Setosa',\n",
              " 'Setosa',\n",
              " 'Setosa',\n",
              " 'Setosa',\n",
              " 'Setosa',\n",
              " 'Setosa',\n",
              " 'Versicolor',\n",
              " 'Versicolor',\n",
              " 'Virginica',\n",
              " 'Virginica',\n",
              " 'Versicolor',\n",
              " 'Versicolor',\n",
              " 'Setosa',\n",
              " 'Virginica',\n",
              " 'Versicolor',\n",
              " 'Setosa',\n",
              " 'Virginica',\n",
              " 'Versicolor',\n",
              " 'Setosa',\n",
              " 'Versicolor',\n",
              " 'Setosa',\n",
              " 'Virginica',\n",
              " 'Setosa',\n",
              " 'Versicolor',\n",
              " 'Virginica',\n",
              " 'Setosa']"
            ]
          },
          "metadata": {},
          "execution_count": 30
        }
      ]
    },
    {
      "cell_type": "code",
      "source": [
        "print('Cek hasil : ', cek_hasil(k13, label_uji))"
      ],
      "metadata": {
        "colab": {
          "base_uri": "https://localhost:8080/"
        },
        "id": "hJbV_Dt5Ndke",
        "outputId": "6196b9d6-68e4-4777-ead1-20034be7877d"
      },
      "execution_count": null,
      "outputs": [
        {
          "output_type": "stream",
          "name": "stdout",
          "text": [
            "Cek hasil :  27\n"
          ]
        }
      ]
    },
    {
      "cell_type": "markdown",
      "metadata": {
        "id": "Ml45KVHX4H6o"
      },
      "source": [
        "Penjelasan jawaban soal nomor 4"
      ]
    },
    {
      "cell_type": "markdown",
      "source": [
        "fungsi knn_multi adalah mengulang fungsi knn_manhattan yang akan mendapatkan prediksi kelas dari perhitungan jarak (manhattan style) antara 1 data uji dengan setiap data latih, sehingga knn_multi akan mendapatkan prediksi kelas dari setiap baris dari data uji.(total 30 baris).\n",
        "Dari hasil percobaan di nomor 4, saat nilai K menggunakan 3, 7, 9 dan 13 dihasilkan kecocokan sebanyak 27 baris dari total 30 atau sekitar 90%. Dari percobaan tersebut dapat disimpulkan bahwa penggunaan nilai K = 3, 7, 9 dan 13  adalah sama untuk mendapatkan tingkat persentase keberhasilan penentuan kelas dari sebuah sampel baru yang masuk."
      ],
      "metadata": {
        "id": "0sc3Z2FbNoQJ"
      }
    }
  ]
}