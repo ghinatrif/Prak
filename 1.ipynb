{
  "nbformat": 4,
  "nbformat_minor": 0,
  "metadata": {
    "colab": {
      "provenance": []
    },
    "kernelspec": {
      "name": "python3",
      "display_name": "Python 3"
    }
  },
  "cells": [
    {
      "cell_type": "markdown",
      "metadata": {
        "id": "eChyuFZGHlV2"
      },
      "source": [
        "# Praktikum Pengantar Pembelajaran Mesin\n",
        "\n",
        "\n",
        "---\n",
        "## Bab 1. Tutorial Python untuk Pengantar Pembelajaran Mesin\n",
        "\n",
        "\n"
      ]
    },
    {
      "cell_type": "markdown",
      "metadata": {
        "id": "af6nAwCvOt-j"
      },
      "source": [
        "Tuliskan Nama, NIM, dan kelas Anda:\n",
        "\n",
        "Nama  : Ghina Tri Fadilah\n",
        "\n",
        "NIM   : 215150207111073\n",
        "\n",
        "Kelas : PPM-A"
      ]
    },
    {
      "cell_type": "markdown",
      "metadata": {
        "id": "_zKditlRH5Qw"
      },
      "source": [
        "\n",
        "\n",
        "### 1) Cek Library\n",
        "Cek apakah library-library berikut telah terinstall :\n",
        "\n",
        "\n",
        "1.   Numpy\n",
        "2.   Pandas\n",
        "3.   Matplotlib\n",
        "4.   Scipy\n",
        "5.   Scikit-learn\n",
        "\n",
        "Tuliskan kode pada cell di bawah ini untuk mengecek apakah library tersebut telah terinstall\n",
        "\n"
      ]
    },
    {
      "cell_type": "code",
      "metadata": {
        "id": "89hItp7MHrZ0",
        "outputId": "f785179c-4a93-4191-db91-a40af6a36c94",
        "colab": {
          "base_uri": "https://localhost:8080/"
        }
      },
      "source": [
        "import numpy\n",
        "import pandas\n",
        "import matplotlib.pyplot\n",
        "import scipy\n",
        "import sklearn\n",
        "import csv\n",
        "\n",
        "print('numpy: {}'.format(numpy.__version__)) # numpy\n",
        "print('pandas: {}'.format(pandas.__version__)) # pandas\n",
        "print('matplotlib: {}'.format(matplotlib.__version__)) # matplotlib\n",
        "print('scipy: {}'.format(scipy.__version__)) # scipy\n",
        "print('sklearn: {}'.format(sklearn.__version__)) # scikit-learn"
      ],
      "execution_count": null,
      "outputs": [
        {
          "output_type": "stream",
          "name": "stdout",
          "text": [
            "numpy: 1.22.4\n",
            "pandas: 1.3.5\n",
            "matplotlib: 3.5.3\n",
            "scipy: 1.7.3\n",
            "sklearn: 1.0.2\n"
          ]
        }
      ]
    },
    {
      "cell_type": "markdown",
      "metadata": {
        "id": "gBy4OpUNUtMR"
      },
      "source": [
        "### 2) Upload **kontak.csv**\n",
        "\n",
        "Tuliskan kode pada cell di bawah ini untuk mengunggah berkas **kontak.csv**"
      ]
    },
    {
      "cell_type": "code",
      "metadata": {
        "id": "rZgDicY_I44C",
        "outputId": "5478bc01-3a03-473d-f49e-484dcba138f4",
        "colab": {
          "base_uri": "https://localhost:8080/",
          "height": 89
        }
      },
      "source": [
        "from google.colab import files\n",
        "kontak = files.upload()\n",
        "for fn in kontak.keys():\n",
        "  print('Nama file \"{name}\" dengan panjang {length} bytes'.format(name=fn, length=len(kontak[fn])))\n"
      ],
      "execution_count": null,
      "outputs": [
        {
          "output_type": "display_data",
          "data": {
            "text/plain": [
              "<IPython.core.display.HTML object>"
            ],
            "text/html": [
              "\n",
              "     <input type=\"file\" id=\"files-a553afb0-0222-4e7d-ab80-18a17dac3917\" name=\"files[]\" multiple disabled\n",
              "        style=\"border:none\" />\n",
              "     <output id=\"result-a553afb0-0222-4e7d-ab80-18a17dac3917\">\n",
              "      Upload widget is only available when the cell has been executed in the\n",
              "      current browser session. Please rerun this cell to enable.\n",
              "      </output>\n",
              "      <script>// Copyright 2017 Google LLC\n",
              "//\n",
              "// Licensed under the Apache License, Version 2.0 (the \"License\");\n",
              "// you may not use this file except in compliance with the License.\n",
              "// You may obtain a copy of the License at\n",
              "//\n",
              "//      http://www.apache.org/licenses/LICENSE-2.0\n",
              "//\n",
              "// Unless required by applicable law or agreed to in writing, software\n",
              "// distributed under the License is distributed on an \"AS IS\" BASIS,\n",
              "// WITHOUT WARRANTIES OR CONDITIONS OF ANY KIND, either express or implied.\n",
              "// See the License for the specific language governing permissions and\n",
              "// limitations under the License.\n",
              "\n",
              "/**\n",
              " * @fileoverview Helpers for google.colab Python module.\n",
              " */\n",
              "(function(scope) {\n",
              "function span(text, styleAttributes = {}) {\n",
              "  const element = document.createElement('span');\n",
              "  element.textContent = text;\n",
              "  for (const key of Object.keys(styleAttributes)) {\n",
              "    element.style[key] = styleAttributes[key];\n",
              "  }\n",
              "  return element;\n",
              "}\n",
              "\n",
              "// Max number of bytes which will be uploaded at a time.\n",
              "const MAX_PAYLOAD_SIZE = 100 * 1024;\n",
              "\n",
              "function _uploadFiles(inputId, outputId) {\n",
              "  const steps = uploadFilesStep(inputId, outputId);\n",
              "  const outputElement = document.getElementById(outputId);\n",
              "  // Cache steps on the outputElement to make it available for the next call\n",
              "  // to uploadFilesContinue from Python.\n",
              "  outputElement.steps = steps;\n",
              "\n",
              "  return _uploadFilesContinue(outputId);\n",
              "}\n",
              "\n",
              "// This is roughly an async generator (not supported in the browser yet),\n",
              "// where there are multiple asynchronous steps and the Python side is going\n",
              "// to poll for completion of each step.\n",
              "// This uses a Promise to block the python side on completion of each step,\n",
              "// then passes the result of the previous step as the input to the next step.\n",
              "function _uploadFilesContinue(outputId) {\n",
              "  const outputElement = document.getElementById(outputId);\n",
              "  const steps = outputElement.steps;\n",
              "\n",
              "  const next = steps.next(outputElement.lastPromiseValue);\n",
              "  return Promise.resolve(next.value.promise).then((value) => {\n",
              "    // Cache the last promise value to make it available to the next\n",
              "    // step of the generator.\n",
              "    outputElement.lastPromiseValue = value;\n",
              "    return next.value.response;\n",
              "  });\n",
              "}\n",
              "\n",
              "/**\n",
              " * Generator function which is called between each async step of the upload\n",
              " * process.\n",
              " * @param {string} inputId Element ID of the input file picker element.\n",
              " * @param {string} outputId Element ID of the output display.\n",
              " * @return {!Iterable<!Object>} Iterable of next steps.\n",
              " */\n",
              "function* uploadFilesStep(inputId, outputId) {\n",
              "  const inputElement = document.getElementById(inputId);\n",
              "  inputElement.disabled = false;\n",
              "\n",
              "  const outputElement = document.getElementById(outputId);\n",
              "  outputElement.innerHTML = '';\n",
              "\n",
              "  const pickedPromise = new Promise((resolve) => {\n",
              "    inputElement.addEventListener('change', (e) => {\n",
              "      resolve(e.target.files);\n",
              "    });\n",
              "  });\n",
              "\n",
              "  const cancel = document.createElement('button');\n",
              "  inputElement.parentElement.appendChild(cancel);\n",
              "  cancel.textContent = 'Cancel upload';\n",
              "  const cancelPromise = new Promise((resolve) => {\n",
              "    cancel.onclick = () => {\n",
              "      resolve(null);\n",
              "    };\n",
              "  });\n",
              "\n",
              "  // Wait for the user to pick the files.\n",
              "  const files = yield {\n",
              "    promise: Promise.race([pickedPromise, cancelPromise]),\n",
              "    response: {\n",
              "      action: 'starting',\n",
              "    }\n",
              "  };\n",
              "\n",
              "  cancel.remove();\n",
              "\n",
              "  // Disable the input element since further picks are not allowed.\n",
              "  inputElement.disabled = true;\n",
              "\n",
              "  if (!files) {\n",
              "    return {\n",
              "      response: {\n",
              "        action: 'complete',\n",
              "      }\n",
              "    };\n",
              "  }\n",
              "\n",
              "  for (const file of files) {\n",
              "    const li = document.createElement('li');\n",
              "    li.append(span(file.name, {fontWeight: 'bold'}));\n",
              "    li.append(span(\n",
              "        `(${file.type || 'n/a'}) - ${file.size} bytes, ` +\n",
              "        `last modified: ${\n",
              "            file.lastModifiedDate ? file.lastModifiedDate.toLocaleDateString() :\n",
              "                                    'n/a'} - `));\n",
              "    const percent = span('0% done');\n",
              "    li.appendChild(percent);\n",
              "\n",
              "    outputElement.appendChild(li);\n",
              "\n",
              "    const fileDataPromise = new Promise((resolve) => {\n",
              "      const reader = new FileReader();\n",
              "      reader.onload = (e) => {\n",
              "        resolve(e.target.result);\n",
              "      };\n",
              "      reader.readAsArrayBuffer(file);\n",
              "    });\n",
              "    // Wait for the data to be ready.\n",
              "    let fileData = yield {\n",
              "      promise: fileDataPromise,\n",
              "      response: {\n",
              "        action: 'continue',\n",
              "      }\n",
              "    };\n",
              "\n",
              "    // Use a chunked sending to avoid message size limits. See b/62115660.\n",
              "    let position = 0;\n",
              "    do {\n",
              "      const length = Math.min(fileData.byteLength - position, MAX_PAYLOAD_SIZE);\n",
              "      const chunk = new Uint8Array(fileData, position, length);\n",
              "      position += length;\n",
              "\n",
              "      const base64 = btoa(String.fromCharCode.apply(null, chunk));\n",
              "      yield {\n",
              "        response: {\n",
              "          action: 'append',\n",
              "          file: file.name,\n",
              "          data: base64,\n",
              "        },\n",
              "      };\n",
              "\n",
              "      let percentDone = fileData.byteLength === 0 ?\n",
              "          100 :\n",
              "          Math.round((position / fileData.byteLength) * 100);\n",
              "      percent.textContent = `${percentDone}% done`;\n",
              "\n",
              "    } while (position < fileData.byteLength);\n",
              "  }\n",
              "\n",
              "  // All done.\n",
              "  yield {\n",
              "    response: {\n",
              "      action: 'complete',\n",
              "    }\n",
              "  };\n",
              "}\n",
              "\n",
              "scope.google = scope.google || {};\n",
              "scope.google.colab = scope.google.colab || {};\n",
              "scope.google.colab._files = {\n",
              "  _uploadFiles,\n",
              "  _uploadFilesContinue,\n",
              "};\n",
              "})(self);\n",
              "</script> "
            ]
          },
          "metadata": {}
        },
        {
          "output_type": "stream",
          "name": "stdout",
          "text": [
            "Saving kontak.csv to kontak.csv\n",
            "Nama file \"kontak.csv\" dengan panjang 103 bytes\n"
          ]
        }
      ]
    },
    {
      "cell_type": "code",
      "metadata": {
        "id": "wd71VBKlVOoJ",
        "outputId": "9444c47b-238f-4fb3-df20-03c779ca7c1a",
        "colab": {
          "base_uri": "https://localhost:8080/"
        }
      },
      "source": [
        "!ls\n"
      ],
      "execution_count": null,
      "outputs": [
        {
          "output_type": "stream",
          "name": "stdout",
          "text": [
            "kontak.csv  sample_data\n"
          ]
        }
      ]
    },
    {
      "cell_type": "markdown",
      "metadata": {
        "id": "kzEw4PqCu0b3"
      },
      "source": [
        "### 3) Download iris.csv\n",
        "\n",
        "Tuliskan code pada cell di bawah ini untuk mendownload berkas **iris.csv**"
      ]
    },
    {
      "cell_type": "code",
      "metadata": {
        "id": "FFzUYNOZpZiq",
        "outputId": "53a632d4-9ffa-4a12-ae6e-346bad9430ec",
        "colab": {
          "base_uri": "https://localhost:8080/"
        }
      },
      "source": [
        "! wget https://gist.githubusercontent.com/netj/8836201/raw/6f9306ad21398ea43cba4f7d537619d0e07d5ae3/iris.csv"
      ],
      "execution_count": null,
      "outputs": [
        {
          "output_type": "stream",
          "name": "stdout",
          "text": [
            "--2023-03-02 03:05:01--  https://gist.githubusercontent.com/netj/8836201/raw/6f9306ad21398ea43cba4f7d537619d0e07d5ae3/iris.csv\n",
            "Resolving gist.githubusercontent.com (gist.githubusercontent.com)... 185.199.109.133, 185.199.108.133, 185.199.111.133, ...\n",
            "Connecting to gist.githubusercontent.com (gist.githubusercontent.com)|185.199.109.133|:443... connected.\n",
            "HTTP request sent, awaiting response... 200 OK\n",
            "Length: 3975 (3.9K) [text/plain]\n",
            "Saving to: ‘iris.csv’\n",
            "\n",
            "iris.csv            100%[===================>]   3.88K  --.-KB/s    in 0s      \n",
            "\n",
            "2023-03-02 03:05:01 (65.6 MB/s) - ‘iris.csv’ saved [3975/3975]\n",
            "\n"
          ]
        }
      ]
    },
    {
      "cell_type": "code",
      "metadata": {
        "id": "P31dEJK_vSEs",
        "outputId": "ddb03cc8-5bb7-4d85-84e8-be3e8e7102e3",
        "colab": {
          "base_uri": "https://localhost:8080/"
        }
      },
      "source": [
        "!ls"
      ],
      "execution_count": null,
      "outputs": [
        {
          "output_type": "stream",
          "name": "stdout",
          "text": [
            "iris.csv  kontak.csv  sample_data\n"
          ]
        }
      ]
    },
    {
      "cell_type": "markdown",
      "metadata": {
        "id": "LOiq9aBN4LNc"
      },
      "source": [
        "### 4) Membaca format CSV\n",
        "\n",
        "File CSV dapat diuraikan (parsing) ke dalam bentuk list, dictionary, atau dataframe.\n",
        "\n",
        "Tuliskan code pada cell di bawah ini untuk melakukan parsing csv ke dalam bentuk list"
      ]
    },
    {
      "cell_type": "code",
      "metadata": {
        "id": "r5OMx0YnvUPm"
      },
      "source": [
        "def csv_list(filename):\n",
        "  data = []\n",
        "  with open('kontak.csv') as csv_file:\n",
        "   csv_reader = csv.reader(csv_file, delimiter=\",\")\n",
        "   for row in csv_reader:\n",
        "    data.append(row)\n",
        "  data.pop(0)\n",
        "  return data"
      ],
      "execution_count": null,
      "outputs": []
    },
    {
      "cell_type": "markdown",
      "metadata": {
        "id": "O3-1HLGr6Ayv"
      },
      "source": [
        "Cek apakah fungsi csv_list dapat berjalan dengan baik"
      ]
    },
    {
      "cell_type": "code",
      "metadata": {
        "id": "cjcy-_D15-he",
        "outputId": "d364ba8b-3ce6-4a33-b99d-9a690472f28e",
        "colab": {
          "base_uri": "https://localhost:8080/"
        }
      },
      "source": [
        "list_kontak = csv_list('kontak.csv')\n",
        "print(list_kontak)"
      ],
      "execution_count": null,
      "outputs": [
        {
          "output_type": "stream",
          "name": "stdout",
          "text": [
            "[['1', 'Achmad Ali', '081234'], ['2', 'Budi Utomo', '08712333'], ['3', 'Toni Saja', '08733311'], ['4', 'Dewi Utami', '0851231']]\n"
          ]
        }
      ]
    },
    {
      "cell_type": "markdown",
      "metadata": {
        "id": "MweusC_W-KQD"
      },
      "source": [
        "Tuliskan code pada cell di bawah ini untuk melakukan parsing csv ke dalam bentuk dictionary"
      ]
    },
    {
      "cell_type": "code",
      "metadata": {
        "id": "iG_30QQR6VU5"
      },
      "source": [
        "def csv_dict(filename):\n",
        "  data = []\n",
        "  with open(filename) as csv_file:\n",
        "   csv_reader = csv.DictReader(csv_file)\n",
        "   for row in csv_reader:\n",
        "     data.append(row)\n",
        "  return data"
      ],
      "execution_count": null,
      "outputs": []
    },
    {
      "cell_type": "markdown",
      "metadata": {
        "id": "7RjbVsWy-jZK"
      },
      "source": [
        "Cek apakah fungsi csv_dict dapat berjalan dengan baik\n",
        "\n",
        "\n"
      ]
    },
    {
      "cell_type": "code",
      "metadata": {
        "id": "rwGUmNqv-hft",
        "outputId": "e27db687-5d4a-4d10-f265-6f079e4a0852",
        "colab": {
          "base_uri": "https://localhost:8080/"
        }
      },
      "source": [
        "list_kontak = csv_dict('kontak.csv')\n",
        "print(list_kontak)"
      ],
      "execution_count": null,
      "outputs": [
        {
          "output_type": "stream",
          "name": "stdout",
          "text": [
            "[{'NO': '1', 'NAMA': 'Achmad Ali', 'TELEPON': '081234'}, {'NO': '2', 'NAMA': 'Budi Utomo', 'TELEPON': '08712333'}, {'NO': '3', 'NAMA': 'Toni Saja', 'TELEPON': '08733311'}, {'NO': '4', 'NAMA': 'Dewi Utami', 'TELEPON': '0851231'}]\n"
          ]
        }
      ]
    },
    {
      "cell_type": "markdown",
      "metadata": {
        "id": "yIBNbxYw_CSu"
      },
      "source": [
        "Gunakan **pandas** untuk mengambil data dari **iris.csv**. Fungsi yang digunakan adalah **read_csv**. Tuliskan kode pada cell di bawah ini"
      ]
    },
    {
      "cell_type": "code",
      "metadata": {
        "id": "85JwM3c5-s2W"
      },
      "source": [
        "iris_df = pandas.read_csv('iris.csv')"
      ],
      "execution_count": null,
      "outputs": []
    },
    {
      "cell_type": "markdown",
      "metadata": {
        "id": "1jqcBIGIOdcH"
      },
      "source": [
        "cek sebagian isi **iris_df** menggunakan properti **head**"
      ]
    },
    {
      "cell_type": "code",
      "metadata": {
        "id": "lmuBZqXXObpV",
        "outputId": "d88276d0-24f5-42ef-b17a-c47139b6be7e",
        "colab": {
          "base_uri": "https://localhost:8080/",
          "height": 206
        }
      },
      "source": [
        "iris_df.head()"
      ],
      "execution_count": null,
      "outputs": [
        {
          "output_type": "execute_result",
          "data": {
            "text/plain": [
              "   sepal.length  sepal.width  petal.length  petal.width variety\n",
              "0           5.1          3.5           1.4          0.2  Setosa\n",
              "1           4.9          3.0           1.4          0.2  Setosa\n",
              "2           4.7          3.2           1.3          0.2  Setosa\n",
              "3           4.6          3.1           1.5          0.2  Setosa\n",
              "4           5.0          3.6           1.4          0.2  Setosa"
            ],
            "text/html": [
              "\n",
              "  <div id=\"df-8d8c9b6e-5e2d-41ae-905c-851595e760c3\">\n",
              "    <div class=\"colab-df-container\">\n",
              "      <div>\n",
              "<style scoped>\n",
              "    .dataframe tbody tr th:only-of-type {\n",
              "        vertical-align: middle;\n",
              "    }\n",
              "\n",
              "    .dataframe tbody tr th {\n",
              "        vertical-align: top;\n",
              "    }\n",
              "\n",
              "    .dataframe thead th {\n",
              "        text-align: right;\n",
              "    }\n",
              "</style>\n",
              "<table border=\"1\" class=\"dataframe\">\n",
              "  <thead>\n",
              "    <tr style=\"text-align: right;\">\n",
              "      <th></th>\n",
              "      <th>sepal.length</th>\n",
              "      <th>sepal.width</th>\n",
              "      <th>petal.length</th>\n",
              "      <th>petal.width</th>\n",
              "      <th>variety</th>\n",
              "    </tr>\n",
              "  </thead>\n",
              "  <tbody>\n",
              "    <tr>\n",
              "      <th>0</th>\n",
              "      <td>5.1</td>\n",
              "      <td>3.5</td>\n",
              "      <td>1.4</td>\n",
              "      <td>0.2</td>\n",
              "      <td>Setosa</td>\n",
              "    </tr>\n",
              "    <tr>\n",
              "      <th>1</th>\n",
              "      <td>4.9</td>\n",
              "      <td>3.0</td>\n",
              "      <td>1.4</td>\n",
              "      <td>0.2</td>\n",
              "      <td>Setosa</td>\n",
              "    </tr>\n",
              "    <tr>\n",
              "      <th>2</th>\n",
              "      <td>4.7</td>\n",
              "      <td>3.2</td>\n",
              "      <td>1.3</td>\n",
              "      <td>0.2</td>\n",
              "      <td>Setosa</td>\n",
              "    </tr>\n",
              "    <tr>\n",
              "      <th>3</th>\n",
              "      <td>4.6</td>\n",
              "      <td>3.1</td>\n",
              "      <td>1.5</td>\n",
              "      <td>0.2</td>\n",
              "      <td>Setosa</td>\n",
              "    </tr>\n",
              "    <tr>\n",
              "      <th>4</th>\n",
              "      <td>5.0</td>\n",
              "      <td>3.6</td>\n",
              "      <td>1.4</td>\n",
              "      <td>0.2</td>\n",
              "      <td>Setosa</td>\n",
              "    </tr>\n",
              "  </tbody>\n",
              "</table>\n",
              "</div>\n",
              "      <button class=\"colab-df-convert\" onclick=\"convertToInteractive('df-8d8c9b6e-5e2d-41ae-905c-851595e760c3')\"\n",
              "              title=\"Convert this dataframe to an interactive table.\"\n",
              "              style=\"display:none;\">\n",
              "        \n",
              "  <svg xmlns=\"http://www.w3.org/2000/svg\" height=\"24px\"viewBox=\"0 0 24 24\"\n",
              "       width=\"24px\">\n",
              "    <path d=\"M0 0h24v24H0V0z\" fill=\"none\"/>\n",
              "    <path d=\"M18.56 5.44l.94 2.06.94-2.06 2.06-.94-2.06-.94-.94-2.06-.94 2.06-2.06.94zm-11 1L8.5 8.5l.94-2.06 2.06-.94-2.06-.94L8.5 2.5l-.94 2.06-2.06.94zm10 10l.94 2.06.94-2.06 2.06-.94-2.06-.94-.94-2.06-.94 2.06-2.06.94z\"/><path d=\"M17.41 7.96l-1.37-1.37c-.4-.4-.92-.59-1.43-.59-.52 0-1.04.2-1.43.59L10.3 9.45l-7.72 7.72c-.78.78-.78 2.05 0 2.83L4 21.41c.39.39.9.59 1.41.59.51 0 1.02-.2 1.41-.59l7.78-7.78 2.81-2.81c.8-.78.8-2.07 0-2.86zM5.41 20L4 18.59l7.72-7.72 1.47 1.35L5.41 20z\"/>\n",
              "  </svg>\n",
              "      </button>\n",
              "      \n",
              "  <style>\n",
              "    .colab-df-container {\n",
              "      display:flex;\n",
              "      flex-wrap:wrap;\n",
              "      gap: 12px;\n",
              "    }\n",
              "\n",
              "    .colab-df-convert {\n",
              "      background-color: #E8F0FE;\n",
              "      border: none;\n",
              "      border-radius: 50%;\n",
              "      cursor: pointer;\n",
              "      display: none;\n",
              "      fill: #1967D2;\n",
              "      height: 32px;\n",
              "      padding: 0 0 0 0;\n",
              "      width: 32px;\n",
              "    }\n",
              "\n",
              "    .colab-df-convert:hover {\n",
              "      background-color: #E2EBFA;\n",
              "      box-shadow: 0px 1px 2px rgba(60, 64, 67, 0.3), 0px 1px 3px 1px rgba(60, 64, 67, 0.15);\n",
              "      fill: #174EA6;\n",
              "    }\n",
              "\n",
              "    [theme=dark] .colab-df-convert {\n",
              "      background-color: #3B4455;\n",
              "      fill: #D2E3FC;\n",
              "    }\n",
              "\n",
              "    [theme=dark] .colab-df-convert:hover {\n",
              "      background-color: #434B5C;\n",
              "      box-shadow: 0px 1px 3px 1px rgba(0, 0, 0, 0.15);\n",
              "      filter: drop-shadow(0px 1px 2px rgba(0, 0, 0, 0.3));\n",
              "      fill: #FFFFFF;\n",
              "    }\n",
              "  </style>\n",
              "\n",
              "      <script>\n",
              "        const buttonEl =\n",
              "          document.querySelector('#df-8d8c9b6e-5e2d-41ae-905c-851595e760c3 button.colab-df-convert');\n",
              "        buttonEl.style.display =\n",
              "          google.colab.kernel.accessAllowed ? 'block' : 'none';\n",
              "\n",
              "        async function convertToInteractive(key) {\n",
              "          const element = document.querySelector('#df-8d8c9b6e-5e2d-41ae-905c-851595e760c3');\n",
              "          const dataTable =\n",
              "            await google.colab.kernel.invokeFunction('convertToInteractive',\n",
              "                                                     [key], {});\n",
              "          if (!dataTable) return;\n",
              "\n",
              "          const docLinkHtml = 'Like what you see? Visit the ' +\n",
              "            '<a target=\"_blank\" href=https://colab.research.google.com/notebooks/data_table.ipynb>data table notebook</a>'\n",
              "            + ' to learn more about interactive tables.';\n",
              "          element.innerHTML = '';\n",
              "          dataTable['output_type'] = 'display_data';\n",
              "          await google.colab.output.renderOutput(dataTable, element);\n",
              "          const docLink = document.createElement('div');\n",
              "          docLink.innerHTML = docLinkHtml;\n",
              "          element.appendChild(docLink);\n",
              "        }\n",
              "      </script>\n",
              "    </div>\n",
              "  </div>\n",
              "  "
            ]
          },
          "metadata": {},
          "execution_count": 11
        }
      ]
    },
    {
      "cell_type": "markdown",
      "metadata": {
        "id": "BBRAM1ORRf-5"
      },
      "source": [
        "### 5) Meringkas Kumpulan Data\n"
      ]
    },
    {
      "cell_type": "markdown",
      "metadata": {
        "id": "y2JOLhX0XHhM"
      },
      "source": [
        "Tampilkan ringkasan data, meliputi :\n",
        "\n",
        "\n",
        "1.   Menampilkan 6 data pertama\n",
        "2.   Menampilkan ukuran dataframe\n",
        "3.   Menampilkan distribusi data\n",
        "4.   Menampilkan banyak data per kelas\n",
        "\n"
      ]
    },
    {
      "cell_type": "code",
      "metadata": {
        "id": "_2v_yG4cOltw",
        "outputId": "29a663f3-670a-42dd-8a82-fdc3ae9dd2b3",
        "colab": {
          "base_uri": "https://localhost:8080/"
        }
      },
      "source": [
        "print(iris_df.head(6)) # menampilkan 6 data pertama\n",
        "print(iris_df.shape) #menampilkan dimensi dataframe\n",
        "print(iris_df.describe()) #menampilkan distribusi data\n",
        "print(iris_df.groupby('sepal.length').size()) #menampilkan banyak data per kelas"
      ],
      "execution_count": null,
      "outputs": [
        {
          "output_type": "stream",
          "name": "stdout",
          "text": [
            "   sepal.length  sepal.width  petal.length  petal.width variety\n",
            "0           5.1          3.5           1.4          0.2  Setosa\n",
            "1           4.9          3.0           1.4          0.2  Setosa\n",
            "2           4.7          3.2           1.3          0.2  Setosa\n",
            "3           4.6          3.1           1.5          0.2  Setosa\n",
            "4           5.0          3.6           1.4          0.2  Setosa\n",
            "5           5.4          3.9           1.7          0.4  Setosa\n",
            "(150, 5)\n",
            "       sepal.length  sepal.width  petal.length  petal.width\n",
            "count    150.000000   150.000000    150.000000   150.000000\n",
            "mean       5.843333     3.057333      3.758000     1.199333\n",
            "std        0.828066     0.435866      1.765298     0.762238\n",
            "min        4.300000     2.000000      1.000000     0.100000\n",
            "25%        5.100000     2.800000      1.600000     0.300000\n",
            "50%        5.800000     3.000000      4.350000     1.300000\n",
            "75%        6.400000     3.300000      5.100000     1.800000\n",
            "max        7.900000     4.400000      6.900000     2.500000\n",
            "sepal.length\n",
            "4.3     1\n",
            "4.4     3\n",
            "4.5     1\n",
            "4.6     4\n",
            "4.7     2\n",
            "4.8     5\n",
            "4.9     6\n",
            "5.0    10\n",
            "5.1     9\n",
            "5.2     4\n",
            "5.3     1\n",
            "5.4     6\n",
            "5.5     7\n",
            "5.6     6\n",
            "5.7     8\n",
            "5.8     7\n",
            "5.9     3\n",
            "6.0     6\n",
            "6.1     6\n",
            "6.2     4\n",
            "6.3     9\n",
            "6.4     7\n",
            "6.5     5\n",
            "6.6     2\n",
            "6.7     8\n",
            "6.8     3\n",
            "6.9     4\n",
            "7.0     1\n",
            "7.1     1\n",
            "7.2     3\n",
            "7.3     1\n",
            "7.4     1\n",
            "7.6     1\n",
            "7.7     4\n",
            "7.9     1\n",
            "dtype: int64\n"
          ]
        }
      ]
    },
    {
      "cell_type": "markdown",
      "metadata": {
        "id": "xfVBv-IDaDE4"
      },
      "source": [
        "### 6) Visualisasi Data\n",
        "Tampilkan plot box dari dataset iris yang berada pada dataframe **iris_df**"
      ]
    },
    {
      "cell_type": "code",
      "metadata": {
        "id": "-Xzgy25xV0JC",
        "outputId": "c30cef74-860b-47dc-89fe-fb8357e903a1",
        "colab": {
          "base_uri": "https://localhost:8080/",
          "height": 267
        }
      },
      "source": [
        "from matplotlib import pyplot\n",
        "iris_df.plot(kind='box',subplots=True, layout=(2,2), sharex=False,\n",
        "sharey=False)\n",
        "pyplot.show()"
      ],
      "execution_count": null,
      "outputs": [
        {
          "output_type": "display_data",
          "data": {
            "text/plain": [
              "<Figure size 432x288 with 4 Axes>"
            ],
            "image/png": "[encoded data removed]"
          },
          "metadata": {
            "needs_background": "light"
          }
        }
      ]
    },
    {
      "cell_type": "markdown",
      "metadata": {
        "id": "qGDBq46ZzDSp"
      },
      "source": [
        "Tampilkan histogram dari setiap variabel pada dataframe **iris_df**"
      ]
    },
    {
      "cell_type": "code",
      "metadata": {
        "id": "nXV6S498yUfz",
        "outputId": "b97e2b01-35b7-4761-9f67-70fe8d70b932",
        "colab": {
          "base_uri": "https://localhost:8080/",
          "height": 281
        }
      },
      "source": [
        "iris_df.hist()\n",
        "pyplot.show()"
      ],
      "execution_count": null,
      "outputs": [
        {
          "output_type": "display_data",
          "data": {
            "text/plain": [
              "<Figure size 432x288 with 4 Axes>"
            ],
            "image/png": "[encoded data removed]"
          },
          "metadata": {
            "needs_background": "light"
          }
        }
      ]
    },
    {
      "cell_type": "markdown",
      "metadata": {
        "id": "C3jAdjdE0X-j"
      },
      "source": [
        "Tampilkan scatter plot untuk melihat interaksi antar variabel"
      ]
    },
    {
      "cell_type": "code",
      "metadata": {
        "id": "cE8l053ozOJD",
        "outputId": "38c0a5ff-9a15-4e76-fefd-b3f9c3b810aa",
        "colab": {
          "base_uri": "https://localhost:8080/",
          "height": 286
        }
      },
      "source": [
        "from pandas.plotting import scatter_matrix\n",
        "scatter_matrix(iris_df)\n",
        "pyplot.show()"
      ],
      "execution_count": null,
      "outputs": [
        {
          "output_type": "display_data",
          "data": {
            "text/plain": [
              "<Figure size 432x288 with 16 Axes>"
            ],
            "image/png": "[encoded data removed]"
          },
          "metadata": {
            "needs_background": "light"
          }
        }
      ]
    },
    {
      "cell_type": "markdown",
      "metadata": {
        "id": "GJJESQ631OZS"
      },
      "source": [
        "## TUGAS\n",
        "\n",
        "1.   Download Glass dataset dari https://dataset-ppm.s3.amazonaws.com/glass.csv\n",
        "2.   Masukkan data Glass ke dataframe menggunakan Pandas.\n",
        "3.   Tampilkan 10 data pertama\n",
        "4.   Hitung rata-rata nilai per variabel untuk setiap data\n",
        "5.   Hitung rata-rata nilai per variabel untuk setiap data dikelompokkan berdasarkan Type\n",
        "6.  Buatlah plot bertipe 'line' untuk masing-masing variabelnya. Referensi : [Pandas Plot](https://pandas.pydata.org/pandas-docs/stable/reference/api/pandas.DataFrame.plot.html)\n",
        "\n"
      ]
    },
    {
      "cell_type": "code",
      "metadata": {
        "id": "mBfojheq0jM5",
        "outputId": "41cd5c36-c032-47e7-8e9e-8f239e8ce4f9",
        "colab": {
          "base_uri": "https://localhost:8080/"
        }
      },
      "source": [
        "! wget https://datahub.io/machine-learning/glass/r/glass.csv"
      ],
      "execution_count": null,
      "outputs": [
        {
          "output_type": "stream",
          "name": "stdout",
          "text": [
            "--2023-03-02 03:08:24--  https://datahub.io/machine-learning/glass/r/glass.csv\n",
            "Resolving datahub.io (datahub.io)... 104.21.40.221, 172.67.157.38, 2606:4700:3030::ac43:9d26, ...\n",
            "Connecting to datahub.io (datahub.io)|104.21.40.221|:443... connected.\n",
            "HTTP request sent, awaiting response... 302 Found\n",
            "Location: https://pkgstore.datahub.io/machine-learning/glass/glass_csv/data/ada024df844ab75eca36edcef98eeafe/glass_csv.csv [following]\n",
            "--2023-03-02 03:08:26--  https://pkgstore.datahub.io/machine-learning/glass/glass_csv/data/ada024df844ab75eca36edcef98eeafe/glass_csv.csv\n",
            "Resolving pkgstore.datahub.io (pkgstore.datahub.io)... 104.21.40.221, 172.67.157.38, 2606:4700:3030::ac43:9d26, ...\n",
            "Connecting to pkgstore.datahub.io (pkgstore.datahub.io)|104.21.40.221|:443... connected.\n",
            "HTTP request sent, awaiting response... 200 OK\n",
            "Length: 13549 (13K) [text/csv]\n",
            "Saving to: ‘glass.csv’\n",
            "\n",
            "glass.csv           100%[===================>]  13.23K  --.-KB/s    in 0s      \n",
            "\n",
            "2023-03-02 03:08:26 (75.8 MB/s) - ‘glass.csv’ saved [13549/13549]\n",
            "\n"
          ]
        }
      ]
    },
    {
      "cell_type": "code",
      "metadata": {
        "id": "FimmFvo85fnY"
      },
      "source": [
        "glass_df = pandas.read_csv('glass.csv')"
      ],
      "execution_count": null,
      "outputs": []
    },
    {
      "cell_type": "code",
      "metadata": {
        "id": "bg9-eG0X5xlZ",
        "outputId": "194fcdd8-5049-4b3d-9f6b-a48299870c72",
        "colab": {
          "base_uri": "https://localhost:8080/"
        }
      },
      "source": [
        "print(glass_df.head(10)) # menampilkan 10 data pertama"
      ],
      "execution_count": null,
      "outputs": [
        {
          "output_type": "stream",
          "name": "stdout",
          "text": [
            "        RI     Na    Mg    Al     Si     K     Ca    Ba    Fe  \\\n",
            "0  1.51793  12.79  3.50  1.12  73.03  0.64   8.77  0.00  0.00   \n",
            "1  1.51643  12.16  3.52  1.35  72.89  0.57   8.53  0.00  0.00   \n",
            "2  1.51793  13.21  3.48  1.41  72.64  0.59   8.43  0.00  0.00   \n",
            "3  1.51299  14.40  1.74  1.54  74.55  0.00   7.59  0.00  0.00   \n",
            "4  1.53393  12.30  0.00  1.00  70.16  0.12  16.19  0.00  0.24   \n",
            "5  1.51655  12.75  2.85  1.44  73.27  0.57   8.79  0.11  0.22   \n",
            "6  1.51779  13.64  3.65  0.65  73.00  0.06   8.93  0.00  0.00   \n",
            "7  1.51837  13.14  2.84  1.28  72.85  0.55   9.07  0.00  0.00   \n",
            "8  1.51545  14.14  0.00  2.68  73.39  0.08   9.07  0.61  0.05   \n",
            "9  1.51789  13.19  3.90  1.30  72.33  0.55   8.44  0.00  0.28   \n",
            "\n",
            "                     Type  \n",
            "0      'build wind float'  \n",
            "1      'vehic wind float'  \n",
            "2      'build wind float'  \n",
            "3               tableware  \n",
            "4  'build wind non-float'  \n",
            "5  'build wind non-float'  \n",
            "6      'vehic wind float'  \n",
            "7      'build wind float'  \n",
            "8               headlamps  \n",
            "9  'build wind non-float'  \n"
          ]
        }
      ]
    },
    {
      "cell_type": "code",
      "metadata": {
        "id": "HgAwj4wn50d7",
        "outputId": "790e47bd-4dca-486a-d3d7-7ecaf4deeb2e",
        "colab": {
          "base_uri": "https://localhost:8080/"
        }
      },
      "source": [
        "print(glass_df.mean)"
      ],
      "execution_count": null,
      "outputs": [
        {
          "output_type": "stream",
          "name": "stdout",
          "text": [
            "<bound method NDFrame._add_numeric_operations.<locals>.mean of           RI     Na    Mg    Al     Si     K     Ca   Ba    Fe  \\\n",
            "0    1.51793  12.79  3.50  1.12  73.03  0.64   8.77  0.0  0.00   \n",
            "1    1.51643  12.16  3.52  1.35  72.89  0.57   8.53  0.0  0.00   \n",
            "2    1.51793  13.21  3.48  1.41  72.64  0.59   8.43  0.0  0.00   \n",
            "3    1.51299  14.40  1.74  1.54  74.55  0.00   7.59  0.0  0.00   \n",
            "4    1.53393  12.30  0.00  1.00  70.16  0.12  16.19  0.0  0.24   \n",
            "..       ...    ...   ...   ...    ...   ...    ...  ...   ...   \n",
            "209  1.51610  13.42  3.40  1.22  72.69  0.59   8.32  0.0  0.00   \n",
            "210  1.51592  12.86  3.52  2.12  72.66  0.69   7.97  0.0  0.00   \n",
            "211  1.51613  13.92  3.52  1.25  72.88  0.37   7.94  0.0  0.14   \n",
            "212  1.51689  12.67  2.88  1.71  73.21  0.73   8.54  0.0  0.00   \n",
            "213  1.51852  14.09  2.19  1.66  72.67  0.00   9.32  0.0  0.00   \n",
            "\n",
            "                       Type  \n",
            "0        'build wind float'  \n",
            "1        'vehic wind float'  \n",
            "2        'build wind float'  \n",
            "3                 tableware  \n",
            "4    'build wind non-float'  \n",
            "..                      ...  \n",
            "209      'vehic wind float'  \n",
            "210  'build wind non-float'  \n",
            "211  'build wind non-float'  \n",
            "212  'build wind non-float'  \n",
            "213               tableware  \n",
            "\n",
            "[214 rows x 10 columns]>\n"
          ]
        }
      ]
    },
    {
      "cell_type": "code",
      "metadata": {
        "id": "w88aOlh06c7E",
        "outputId": "be775db7-066f-4a42-e08d-8eade79e4be7",
        "colab": {
          "base_uri": "https://localhost:8080/"
        }
      },
      "source": [
        "print(glass_df.groupby('Type').mean())"
      ],
      "execution_count": null,
      "outputs": [
        {
          "output_type": "stream",
          "name": "stdout",
          "text": [
            "                              RI         Na        Mg        Al         Si  \\\n",
            "Type                                                                         \n",
            "'build wind float'      1.518718  13.242286  3.552429  1.163857  72.619143   \n",
            "'build wind non-float'  1.518619  13.111711  3.002105  1.408158  72.598026   \n",
            "'vehic wind float'      1.517964  13.437059  3.543529  1.201176  72.404706   \n",
            "containers              1.518928  12.827692  0.773846  2.033846  72.366154   \n",
            "headlamps               1.517116  14.442069  0.538276  2.122759  72.965862   \n",
            "tableware               1.517456  14.646667  1.305556  1.366667  73.206667   \n",
            "\n",
            "                               K         Ca        Ba        Fe  \n",
            "Type                                                             \n",
            "'build wind float'      0.447429   8.797286  0.012714  0.057000  \n",
            "'build wind non-float'  0.521053   9.073684  0.050263  0.079737  \n",
            "'vehic wind float'      0.406471   8.782941  0.008824  0.057059  \n",
            "containers              1.470000  10.123846  0.187692  0.060769  \n",
            "headlamps               0.325172   8.491379  1.040000  0.013448  \n",
            "tableware               0.000000   9.356667  0.000000  0.000000  \n"
          ]
        }
      ]
    },
    {
      "cell_type": "code",
      "metadata": {
        "id": "EIivgxEc6jyY",
        "outputId": "a6b35e27-6dfa-43e0-923b-f216cdab7681",
        "colab": {
          "base_uri": "https://localhost:8080/",
          "height": 265
        }
      },
      "source": [
        "glass_df.plot.line();"
      ],
      "execution_count": null,
      "outputs": [
        {
          "output_type": "display_data",
          "data": {
            "text/plain": [
              "<Figure size 432x288 with 1 Axes>"
            ],
            "image/png": "[encoded data removed]"
          },
          "metadata": {
            "needs_background": "light"
          }
        }
      ]
    },
    {
      "cell_type": "code",
      "metadata": {
        "id": "MOY3hy757TKv"
      },
      "source": [],
      "execution_count": null,
      "outputs": []
    }
  ]
}